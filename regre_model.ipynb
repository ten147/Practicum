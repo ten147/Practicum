{
 "cells": [
  {
   "cell_type": "code",
   "execution_count": 1,
   "metadata": {},
   "outputs": [
    {
     "name": "stderr",
     "output_type": "stream",
     "text": [
      "/anaconda/lib/python3.6/site-packages/ggplot/utils.py:81: FutureWarning: pandas.tslib is deprecated and will be removed in a future version.\n",
      "You can access Timestamp as pandas.Timestamp\n",
      "  pd.tslib.Timestamp,\n",
      "/anaconda/lib/python3.6/site-packages/ggplot/stats/smoothers.py:4: FutureWarning: The pandas.lib module is deprecated and will be removed in a future version. These are private functions and can be accessed from pandas._libs.lib instead\n",
      "  from pandas.lib import Timestamp\n",
      "/anaconda/lib/python3.6/site-packages/statsmodels/compat/pandas.py:56: FutureWarning: The pandas.core.datetools module is deprecated and will be removed in a future version. Please use the pandas.tseries module instead.\n",
      "  from pandas.core import datetools\n"
     ]
    }
   ],
   "source": [
    "import h2o\n",
    "from h2o.estimators.glm import H2OGeneralizedLinearEstimator\n",
    "import matplotlib.pyplot as plt\n",
    "import numpy as np\n",
    "from ggplot import *"
   ]
  },
  {
   "cell_type": "code",
   "execution_count": 2,
   "metadata": {},
   "outputs": [
    {
     "name": "stdout",
     "output_type": "stream",
     "text": [
      "Checking whether there is an H2O instance running at http://localhost:54321. connected.\n",
      "Warning: Your H2O cluster version is too old (8 months and 10 days)! Please download and install the latest version from http://h2o.ai/download/\n"
     ]
    },
    {
     "data": {
      "text/html": [
       "<div style=\"overflow:auto\"><table style=\"width:50%\"><tr><td>H2O cluster uptime:</td>\n",
       "<td>2 days 16 hours 4 mins</td></tr>\n",
       "<tr><td>H2O cluster timezone:</td>\n",
       "<td>America/New_York</td></tr>\n",
       "<tr><td>H2O data parsing timezone:</td>\n",
       "<td>UTC</td></tr>\n",
       "<tr><td>H2O cluster version:</td>\n",
       "<td>3.18.0.4</td></tr>\n",
       "<tr><td>H2O cluster version age:</td>\n",
       "<td>8 months and 10 days !!!</td></tr>\n",
       "<tr><td>H2O cluster name:</td>\n",
       "<td>H2O_from_python_chengquanguan_lgthrc</td></tr>\n",
       "<tr><td>H2O cluster total nodes:</td>\n",
       "<td>1</td></tr>\n",
       "<tr><td>H2O cluster free memory:</td>\n",
       "<td>3.465 Gb</td></tr>\n",
       "<tr><td>H2O cluster total cores:</td>\n",
       "<td>8</td></tr>\n",
       "<tr><td>H2O cluster allowed cores:</td>\n",
       "<td>8</td></tr>\n",
       "<tr><td>H2O cluster status:</td>\n",
       "<td>locked, healthy</td></tr>\n",
       "<tr><td>H2O connection url:</td>\n",
       "<td>http://localhost:54321</td></tr>\n",
       "<tr><td>H2O connection proxy:</td>\n",
       "<td>None</td></tr>\n",
       "<tr><td>H2O internal security:</td>\n",
       "<td>False</td></tr>\n",
       "<tr><td>H2O API Extensions:</td>\n",
       "<td>XGBoost, Algos, AutoML, Core V3, Core V4</td></tr>\n",
       "<tr><td>Python version:</td>\n",
       "<td>3.6.1 final</td></tr></table></div>"
      ],
      "text/plain": [
       "--------------------------  ----------------------------------------\n",
       "H2O cluster uptime:         2 days 16 hours 4 mins\n",
       "H2O cluster timezone:       America/New_York\n",
       "H2O data parsing timezone:  UTC\n",
       "H2O cluster version:        3.18.0.4\n",
       "H2O cluster version age:    8 months and 10 days !!!\n",
       "H2O cluster name:           H2O_from_python_chengquanguan_lgthrc\n",
       "H2O cluster total nodes:    1\n",
       "H2O cluster free memory:    3.465 Gb\n",
       "H2O cluster total cores:    8\n",
       "H2O cluster allowed cores:  8\n",
       "H2O cluster status:         locked, healthy\n",
       "H2O connection url:         http://localhost:54321\n",
       "H2O connection proxy:\n",
       "H2O internal security:      False\n",
       "H2O API Extensions:         XGBoost, Algos, AutoML, Core V3, Core V4\n",
       "Python version:             3.6.1 final\n",
       "--------------------------  ----------------------------------------"
      ]
     },
     "metadata": {},
     "output_type": "display_data"
    }
   ],
   "source": [
    "h2o.init()"
   ]
  },
  {
   "cell_type": "code",
   "execution_count": 3,
   "metadata": {},
   "outputs": [
    {
     "name": "stdout",
     "output_type": "stream",
     "text": [
      "Parse progress: |█████████████████████████████████████████████████████████| 100%\n"
     ]
    }
   ],
   "source": [
    "train=h2o.import_file(\"/Users/chengquanguan/Downloads/df1.csv\")"
   ]
  },
  {
   "cell_type": "code",
   "execution_count": 4,
   "metadata": {},
   "outputs": [
    {
     "data": {
      "text/plain": [
       "(500, 86)"
      ]
     },
     "execution_count": 4,
     "metadata": {},
     "output_type": "execute_result"
    }
   ],
   "source": [
    "train.shape"
   ]
  },
  {
   "cell_type": "code",
   "execution_count": 5,
   "metadata": {},
   "outputs": [
    {
     "data": {
      "text/plain": [
       "(499, 86)"
      ]
     },
     "execution_count": 5,
     "metadata": {},
     "output_type": "execute_result"
    }
   ],
   "source": [
    "train=train.na_omit()\n",
    "train.shape"
   ]
  },
  {
   "cell_type": "code",
   "execution_count": 6,
   "metadata": {},
   "outputs": [
    {
     "data": {
      "text/html": [
       "<table>\n",
       "<thead>\n",
       "<tr><th>C1                     </th><th style=\"text-align: right;\">  ACCESS2</th><th style=\"text-align: right;\">  BPMED</th><th style=\"text-align: right;\">  CHECKUP</th><th style=\"text-align: right;\">  CHOLSCREEN</th><th style=\"text-align: right;\">  COLON_SCREEN</th><th style=\"text-align: right;\">  COREM</th><th style=\"text-align: right;\">  COREW</th><th style=\"text-align: right;\">  DENTAL</th><th style=\"text-align: right;\">  MAMMOUSE</th><th style=\"text-align: right;\">  PAPTEST</th><th style=\"text-align: right;\">  BINGE</th><th style=\"text-align: right;\">  CSMOKING</th><th style=\"text-align: right;\">  LPA</th><th style=\"text-align: right;\">  OBESITY</th><th style=\"text-align: right;\">  SLEEP</th><th style=\"text-align: right;\">  ARTHRITIS</th><th style=\"text-align: right;\">  BPHIGH</th><th style=\"text-align: right;\">  CANCER</th><th style=\"text-align: right;\">  CASTHMA</th><th style=\"text-align: right;\">  CHD</th><th style=\"text-align: right;\">  COPD</th><th style=\"text-align: right;\">  DIABETES</th><th style=\"text-align: right;\">  HIGHCHOL</th><th style=\"text-align: right;\">  KIDNEY</th><th style=\"text-align: right;\">  MHLTH</th><th style=\"text-align: right;\">  PHLTH</th><th style=\"text-align: right;\">  STROKE</th><th style=\"text-align: right;\">  TEETHLOST</th><th style=\"text-align: right;\">   C30</th><th style=\"text-align: right;\">    C31</th><th style=\"text-align: right;\">    C32</th><th style=\"text-align: right;\">    C33</th><th style=\"text-align: right;\">    C34</th><th style=\"text-align: right;\">    C35</th><th style=\"text-align: right;\">    C36</th><th style=\"text-align: right;\">    C37</th><th style=\"text-align: right;\">    C38</th><th style=\"text-align: right;\">    C39</th><th style=\"text-align: right;\">   C40</th><th style=\"text-align: right;\">   C41</th><th style=\"text-align: right;\">    C42</th><th style=\"text-align: right;\">    C43</th><th style=\"text-align: right;\">    C44</th><th style=\"text-align: right;\">   C45</th><th style=\"text-align: right;\">    C46</th><th style=\"text-align: right;\">  C47</th><th style=\"text-align: right;\">   C48</th><th style=\"text-align: right;\">  C49</th><th style=\"text-align: right;\">  C50</th><th style=\"text-align: right;\">   C51</th><th style=\"text-align: right;\">    C52</th><th style=\"text-align: right;\">  C53</th><th style=\"text-align: right;\">   C54</th><th style=\"text-align: right;\">   C55</th><th style=\"text-align: right;\">  C56</th><th style=\"text-align: right;\">   C57</th><th style=\"text-align: right;\">    C58</th><th style=\"text-align: right;\">    C59</th><th style=\"text-align: right;\">    C60</th><th style=\"text-align: right;\">    C61</th><th style=\"text-align: right;\">    C62</th><th style=\"text-align: right;\">    C63</th><th style=\"text-align: right;\">    C64</th><th style=\"text-align: right;\">    C65</th><th style=\"text-align: right;\">    C66</th><th style=\"text-align: right;\">    C67</th><th style=\"text-align: right;\">    C68</th><th style=\"text-align: right;\">    C69</th><th style=\"text-align: right;\">    C70</th><th style=\"text-align: right;\">    C71</th><th style=\"text-align: right;\">    C72</th><th style=\"text-align: right;\">    C73</th><th style=\"text-align: right;\">    C74</th><th style=\"text-align: right;\">    C75</th><th style=\"text-align: right;\">    C76</th><th style=\"text-align: right;\">    C77</th><th style=\"text-align: right;\">    C78</th><th style=\"text-align: right;\">    C79</th><th style=\"text-align: right;\">    C80</th><th style=\"text-align: right;\">     C81</th><th style=\"text-align: right;\">    C82</th><th style=\"text-align: right;\">    C83</th><th style=\"text-align: right;\">     C84</th><th style=\"text-align: right;\">    C85</th><th style=\"text-align: right;\">       y</th></tr>\n",
       "</thead>\n",
       "<tbody>\n",
       "<tr><td>('Birmingham_Alabama',)</td><td style=\"text-align: right;\">     19.6</td><td style=\"text-align: right;\">   81.3</td><td style=\"text-align: right;\">     76.7</td><td style=\"text-align: right;\">        74.8</td><td style=\"text-align: right;\">          61.1</td><td style=\"text-align: right;\">   29.9</td><td style=\"text-align: right;\">   27.3</td><td style=\"text-align: right;\">    49.3</td><td style=\"text-align: right;\">      76.8</td><td style=\"text-align: right;\">     78.6</td><td style=\"text-align: right;\">   11.3</td><td style=\"text-align: right;\">      24.4</td><td style=\"text-align: right;\"> 37  </td><td style=\"text-align: right;\">     41.9</td><td style=\"text-align: right;\">   46.5</td><td style=\"text-align: right;\">       30.9</td><td style=\"text-align: right;\">    43.8</td><td style=\"text-align: right;\">     5.7</td><td style=\"text-align: right;\">     11.5</td><td style=\"text-align: right;\">  7.7</td><td style=\"text-align: right;\">   9.1</td><td style=\"text-align: right;\">      16.8</td><td style=\"text-align: right;\">      39.2</td><td style=\"text-align: right;\">     3.6</td><td style=\"text-align: right;\">   15.6</td><td style=\"text-align: right;\">   16.4</td><td style=\"text-align: right;\">     5.2</td><td style=\"text-align: right;\">       26.1</td><td style=\"text-align: right;\">384.16</td><td style=\"text-align: right;\">6609.69</td><td style=\"text-align: right;\">5882.89</td><td style=\"text-align: right;\">5595.04</td><td style=\"text-align: right;\">3733.21</td><td style=\"text-align: right;\"> 894.01</td><td style=\"text-align: right;\"> 745.29</td><td style=\"text-align: right;\">2430.49</td><td style=\"text-align: right;\">5898.24</td><td style=\"text-align: right;\">6177.96</td><td style=\"text-align: right;\">127.69</td><td style=\"text-align: right;\">595.36</td><td style=\"text-align: right;\">1369   </td><td style=\"text-align: right;\">1755.61</td><td style=\"text-align: right;\">2162.25</td><td style=\"text-align: right;\">954.81</td><td style=\"text-align: right;\">1918.44</td><td style=\"text-align: right;\">32.49</td><td style=\"text-align: right;\">132.25</td><td style=\"text-align: right;\">59.29</td><td style=\"text-align: right;\">82.81</td><td style=\"text-align: right;\">282.24</td><td style=\"text-align: right;\">1536.64</td><td style=\"text-align: right;\">12.96</td><td style=\"text-align: right;\">243.36</td><td style=\"text-align: right;\">268.96</td><td style=\"text-align: right;\">27.04</td><td style=\"text-align: right;\">681.21</td><td style=\"text-align: right;\">2.97553</td><td style=\"text-align: right;\">4.39815</td><td style=\"text-align: right;\">4.3399 </td><td style=\"text-align: right;\">4.31482</td><td style=\"text-align: right;\">4.11251</td><td style=\"text-align: right;\">3.39786</td><td style=\"text-align: right;\">3.30689</td><td style=\"text-align: right;\">3.89792</td><td style=\"text-align: right;\">4.3412 </td><td style=\"text-align: right;\">4.36437</td><td style=\"text-align: right;\">2.4248 </td><td style=\"text-align: right;\">3.19458</td><td style=\"text-align: right;\">3.61092</td><td style=\"text-align: right;\">3.73529</td><td style=\"text-align: right;\">3.83945</td><td style=\"text-align: right;\">3.43076</td><td style=\"text-align: right;\">3.77963</td><td style=\"text-align: right;\">1.74047</td><td style=\"text-align: right;\">2.44235</td><td style=\"text-align: right;\">2.04122</td><td style=\"text-align: right;\">2.20827</td><td style=\"text-align: right;\">2.82138</td><td style=\"text-align: right;\">3.66868</td><td style=\"text-align: right;\">1.28093 </td><td style=\"text-align: right;\">2.74727</td><td style=\"text-align: right;\">2.79728</td><td style=\"text-align: right;\">1.64866 </td><td style=\"text-align: right;\">3.26194</td><td style=\"text-align: right;\">125725  </td></tr>\n",
       "<tr><td>('Hoover_Alabama',)    </td><td style=\"text-align: right;\">      9.7</td><td style=\"text-align: right;\">   77.7</td><td style=\"text-align: right;\">     73.6</td><td style=\"text-align: right;\">        82.1</td><td style=\"text-align: right;\">          72.4</td><td style=\"text-align: right;\">   41.7</td><td style=\"text-align: right;\">   41.5</td><td style=\"text-align: right;\">    72.7</td><td style=\"text-align: right;\">      79.7</td><td style=\"text-align: right;\">     85.8</td><td style=\"text-align: right;\">   14.9</td><td style=\"text-align: right;\">      14.1</td><td style=\"text-align: right;\"> 23.7</td><td style=\"text-align: right;\">     28.6</td><td style=\"text-align: right;\">   34.6</td><td style=\"text-align: right;\">       25.3</td><td style=\"text-align: right;\">    30.7</td><td style=\"text-align: right;\">     6.6</td><td style=\"text-align: right;\">      8.6</td><td style=\"text-align: right;\">  5  </td><td style=\"text-align: right;\">   5.2</td><td style=\"text-align: right;\">       8.1</td><td style=\"text-align: right;\">      35.9</td><td style=\"text-align: right;\">     2.2</td><td style=\"text-align: right;\">   10.4</td><td style=\"text-align: right;\">    9.4</td><td style=\"text-align: right;\">     2.2</td><td style=\"text-align: right;\">        9.6</td><td style=\"text-align: right;\"> 94.09</td><td style=\"text-align: right;\">6037.29</td><td style=\"text-align: right;\">5416.96</td><td style=\"text-align: right;\">6740.41</td><td style=\"text-align: right;\">5241.76</td><td style=\"text-align: right;\">1738.89</td><td style=\"text-align: right;\">1722.25</td><td style=\"text-align: right;\">5285.29</td><td style=\"text-align: right;\">6352.09</td><td style=\"text-align: right;\">7361.64</td><td style=\"text-align: right;\">222.01</td><td style=\"text-align: right;\">198.81</td><td style=\"text-align: right;\"> 561.69</td><td style=\"text-align: right;\"> 817.96</td><td style=\"text-align: right;\">1197.16</td><td style=\"text-align: right;\">640.09</td><td style=\"text-align: right;\"> 942.49</td><td style=\"text-align: right;\">43.56</td><td style=\"text-align: right;\"> 73.96</td><td style=\"text-align: right;\">25   </td><td style=\"text-align: right;\">27.04</td><td style=\"text-align: right;\"> 65.61</td><td style=\"text-align: right;\">1288.81</td><td style=\"text-align: right;\"> 4.84</td><td style=\"text-align: right;\">108.16</td><td style=\"text-align: right;\"> 88.36</td><td style=\"text-align: right;\"> 4.84</td><td style=\"text-align: right;\"> 92.16</td><td style=\"text-align: right;\">2.27213</td><td style=\"text-align: right;\">4.35286</td><td style=\"text-align: right;\">4.29865</td><td style=\"text-align: right;\">4.40794</td><td style=\"text-align: right;\">4.28221</td><td style=\"text-align: right;\">3.7305 </td><td style=\"text-align: right;\">3.72569</td><td style=\"text-align: right;\">4.28634</td><td style=\"text-align: right;\">4.37827</td><td style=\"text-align: right;\">4.45202</td><td style=\"text-align: right;\">2.70136</td><td style=\"text-align: right;\">2.64617</td><td style=\"text-align: right;\">3.16548</td><td style=\"text-align: right;\">3.35341</td><td style=\"text-align: right;\">3.54385</td><td style=\"text-align: right;\">3.2308 </td><td style=\"text-align: right;\">3.42426</td><td style=\"text-align: right;\">1.88707</td><td style=\"text-align: right;\">2.15176</td><td style=\"text-align: right;\">1.60944</td><td style=\"text-align: right;\">1.64866</td><td style=\"text-align: right;\">2.09186</td><td style=\"text-align: right;\">3.58074</td><td style=\"text-align: right;\">0.788457</td><td style=\"text-align: right;\">2.34181</td><td style=\"text-align: right;\">2.24071</td><td style=\"text-align: right;\">0.788457</td><td style=\"text-align: right;\">2.26176</td><td style=\"text-align: right;\"> 48349.5</td></tr>\n",
       "<tr><td>('Huntsville_Alabama',)</td><td style=\"text-align: right;\">     15.1</td><td style=\"text-align: right;\">   79  </td><td style=\"text-align: right;\">     73.3</td><td style=\"text-align: right;\">        76.8</td><td style=\"text-align: right;\">          65  </td><td style=\"text-align: right;\">   39.5</td><td style=\"text-align: right;\">   36.6</td><td style=\"text-align: right;\">    60.7</td><td style=\"text-align: right;\">      76.9</td><td style=\"text-align: right;\">     82.4</td><td style=\"text-align: right;\">   11.8</td><td style=\"text-align: right;\">      19.1</td><td style=\"text-align: right;\"> 26.9</td><td style=\"text-align: right;\">     33.8</td><td style=\"text-align: right;\">   39.2</td><td style=\"text-align: right;\">       27.5</td><td style=\"text-align: right;\">    36.8</td><td style=\"text-align: right;\">     6.6</td><td style=\"text-align: right;\">      9.8</td><td style=\"text-align: right;\">  6.5</td><td style=\"text-align: right;\">   7.6</td><td style=\"text-align: right;\">      11.5</td><td style=\"text-align: right;\">      38.9</td><td style=\"text-align: right;\">     2.8</td><td style=\"text-align: right;\">   13.3</td><td style=\"text-align: right;\">   13.3</td><td style=\"text-align: right;\">     3.4</td><td style=\"text-align: right;\">       14.9</td><td style=\"text-align: right;\">228.01</td><td style=\"text-align: right;\">6241   </td><td style=\"text-align: right;\">5372.89</td><td style=\"text-align: right;\">5898.24</td><td style=\"text-align: right;\">4225   </td><td style=\"text-align: right;\">1560.25</td><td style=\"text-align: right;\">1339.56</td><td style=\"text-align: right;\">3684.49</td><td style=\"text-align: right;\">5913.61</td><td style=\"text-align: right;\">6789.76</td><td style=\"text-align: right;\">139.24</td><td style=\"text-align: right;\">364.81</td><td style=\"text-align: right;\"> 723.61</td><td style=\"text-align: right;\">1142.44</td><td style=\"text-align: right;\">1536.64</td><td style=\"text-align: right;\">756.25</td><td style=\"text-align: right;\">1354.24</td><td style=\"text-align: right;\">43.56</td><td style=\"text-align: right;\"> 96.04</td><td style=\"text-align: right;\">42.25</td><td style=\"text-align: right;\">57.76</td><td style=\"text-align: right;\">132.25</td><td style=\"text-align: right;\">1513.21</td><td style=\"text-align: right;\"> 7.84</td><td style=\"text-align: right;\">176.89</td><td style=\"text-align: right;\">176.89</td><td style=\"text-align: right;\">11.56</td><td style=\"text-align: right;\">222.01</td><td style=\"text-align: right;\">2.71469</td><td style=\"text-align: right;\">4.36945</td><td style=\"text-align: right;\">4.29456</td><td style=\"text-align: right;\">4.3412 </td><td style=\"text-align: right;\">4.17439</td><td style=\"text-align: right;\">3.6763 </td><td style=\"text-align: right;\">3.60005</td><td style=\"text-align: right;\">4.10594</td><td style=\"text-align: right;\">4.34251</td><td style=\"text-align: right;\">4.41159</td><td style=\"text-align: right;\">2.4681 </td><td style=\"text-align: right;\">2.94969</td><td style=\"text-align: right;\">3.29213</td><td style=\"text-align: right;\">3.52046</td><td style=\"text-align: right;\">3.66868</td><td style=\"text-align: right;\">3.31419</td><td style=\"text-align: right;\">3.6055 </td><td style=\"text-align: right;\">1.88707</td><td style=\"text-align: right;\">2.28238</td><td style=\"text-align: right;\">1.8718 </td><td style=\"text-align: right;\">2.02815</td><td style=\"text-align: right;\">2.44235</td><td style=\"text-align: right;\">3.66099</td><td style=\"text-align: right;\">1.02962 </td><td style=\"text-align: right;\">2.58776</td><td style=\"text-align: right;\">2.58776</td><td style=\"text-align: right;\">1.22378 </td><td style=\"text-align: right;\">2.70136</td><td style=\"text-align: right;\">106691  </td></tr>\n",
       "<tr><td>('Mobile_Alabama',)    </td><td style=\"text-align: right;\">     16.9</td><td style=\"text-align: right;\">   79.3</td><td style=\"text-align: right;\">     73.6</td><td style=\"text-align: right;\">        75.9</td><td style=\"text-align: right;\">          61.6</td><td style=\"text-align: right;\">   33.9</td><td style=\"text-align: right;\">   31.6</td><td style=\"text-align: right;\">    52.9</td><td style=\"text-align: right;\">      76  </td><td style=\"text-align: right;\">     80.8</td><td style=\"text-align: right;\">   12.9</td><td style=\"text-align: right;\">      22.8</td><td style=\"text-align: right;\"> 34.2</td><td style=\"text-align: right;\">     34.7</td><td style=\"text-align: right;\">   41.6</td><td style=\"text-align: right;\">       30.5</td><td style=\"text-align: right;\">    42  </td><td style=\"text-align: right;\">     6.5</td><td style=\"text-align: right;\">     10.8</td><td style=\"text-align: right;\">  7.7</td><td style=\"text-align: right;\">   8.8</td><td style=\"text-align: right;\">      13.8</td><td style=\"text-align: right;\">      39.9</td><td style=\"text-align: right;\">     3.2</td><td style=\"text-align: right;\">   14.9</td><td style=\"text-align: right;\">   15.6</td><td style=\"text-align: right;\">     4.4</td><td style=\"text-align: right;\">       24.3</td><td style=\"text-align: right;\">285.61</td><td style=\"text-align: right;\">6288.49</td><td style=\"text-align: right;\">5416.96</td><td style=\"text-align: right;\">5760.81</td><td style=\"text-align: right;\">3794.56</td><td style=\"text-align: right;\">1149.21</td><td style=\"text-align: right;\"> 998.56</td><td style=\"text-align: right;\">2798.41</td><td style=\"text-align: right;\">5776   </td><td style=\"text-align: right;\">6528.64</td><td style=\"text-align: right;\">166.41</td><td style=\"text-align: right;\">519.84</td><td style=\"text-align: right;\">1169.64</td><td style=\"text-align: right;\">1204.09</td><td style=\"text-align: right;\">1730.56</td><td style=\"text-align: right;\">930.25</td><td style=\"text-align: right;\">1764   </td><td style=\"text-align: right;\">42.25</td><td style=\"text-align: right;\">116.64</td><td style=\"text-align: right;\">59.29</td><td style=\"text-align: right;\">77.44</td><td style=\"text-align: right;\">190.44</td><td style=\"text-align: right;\">1592.01</td><td style=\"text-align: right;\">10.24</td><td style=\"text-align: right;\">222.01</td><td style=\"text-align: right;\">243.36</td><td style=\"text-align: right;\">19.36</td><td style=\"text-align: right;\">590.49</td><td style=\"text-align: right;\">2.82731</td><td style=\"text-align: right;\">4.37324</td><td style=\"text-align: right;\">4.29865</td><td style=\"text-align: right;\">4.32942</td><td style=\"text-align: right;\">4.12066</td><td style=\"text-align: right;\">3.52342</td><td style=\"text-align: right;\">3.45316</td><td style=\"text-align: right;\">3.9684 </td><td style=\"text-align: right;\">4.33073</td><td style=\"text-align: right;\">4.39198</td><td style=\"text-align: right;\">2.55723</td><td style=\"text-align: right;\">3.12676</td><td style=\"text-align: right;\">3.53223</td><td style=\"text-align: right;\">3.54674</td><td style=\"text-align: right;\">3.7281 </td><td style=\"text-align: right;\">3.41773</td><td style=\"text-align: right;\">3.73767</td><td style=\"text-align: right;\">1.8718 </td><td style=\"text-align: right;\">2.37955</td><td style=\"text-align: right;\">2.04122</td><td style=\"text-align: right;\">2.17475</td><td style=\"text-align: right;\">2.62467</td><td style=\"text-align: right;\">3.68638</td><td style=\"text-align: right;\">1.16315 </td><td style=\"text-align: right;\">2.70136</td><td style=\"text-align: right;\">2.74727</td><td style=\"text-align: right;\">1.4816  </td><td style=\"text-align: right;\">3.19048</td><td style=\"text-align: right;\">115580  </td></tr>\n",
       "<tr><td>('Montgomery_Alabama',)</td><td style=\"text-align: right;\">     17.4</td><td style=\"text-align: right;\">   78.9</td><td style=\"text-align: right;\">     74  </td><td style=\"text-align: right;\">        75.9</td><td style=\"text-align: right;\">          62.1</td><td style=\"text-align: right;\">   31.6</td><td style=\"text-align: right;\">   27.2</td><td style=\"text-align: right;\">    57.1</td><td style=\"text-align: right;\">      77.1</td><td style=\"text-align: right;\">     81.7</td><td style=\"text-align: right;\">   12.3</td><td style=\"text-align: right;\">      22  </td><td style=\"text-align: right;\"> 30.9</td><td style=\"text-align: right;\">     38.9</td><td style=\"text-align: right;\">   41.1</td><td style=\"text-align: right;\">       29.8</td><td style=\"text-align: right;\">    40.3</td><td style=\"text-align: right;\">     6  </td><td style=\"text-align: right;\">     11  </td><td style=\"text-align: right;\">  6.7</td><td style=\"text-align: right;\">   8.2</td><td style=\"text-align: right;\">      13.1</td><td style=\"text-align: right;\">      37.4</td><td style=\"text-align: right;\">     3  </td><td style=\"text-align: right;\">   14.9</td><td style=\"text-align: right;\">   15.4</td><td style=\"text-align: right;\">     4.1</td><td style=\"text-align: right;\">       21.2</td><td style=\"text-align: right;\">302.76</td><td style=\"text-align: right;\">6225.21</td><td style=\"text-align: right;\">5476   </td><td style=\"text-align: right;\">5760.81</td><td style=\"text-align: right;\">3856.41</td><td style=\"text-align: right;\"> 998.56</td><td style=\"text-align: right;\"> 739.84</td><td style=\"text-align: right;\">3260.41</td><td style=\"text-align: right;\">5944.41</td><td style=\"text-align: right;\">6674.89</td><td style=\"text-align: right;\">151.29</td><td style=\"text-align: right;\">484   </td><td style=\"text-align: right;\"> 954.81</td><td style=\"text-align: right;\">1513.21</td><td style=\"text-align: right;\">1689.21</td><td style=\"text-align: right;\">888.04</td><td style=\"text-align: right;\">1624.09</td><td style=\"text-align: right;\">36   </td><td style=\"text-align: right;\">121   </td><td style=\"text-align: right;\">44.89</td><td style=\"text-align: right;\">67.24</td><td style=\"text-align: right;\">171.61</td><td style=\"text-align: right;\">1398.76</td><td style=\"text-align: right;\"> 9   </td><td style=\"text-align: right;\">222.01</td><td style=\"text-align: right;\">237.16</td><td style=\"text-align: right;\">16.81</td><td style=\"text-align: right;\">449.44</td><td style=\"text-align: right;\">2.85647</td><td style=\"text-align: right;\">4.36818</td><td style=\"text-align: right;\">4.30407</td><td style=\"text-align: right;\">4.32942</td><td style=\"text-align: right;\">4.12875</td><td style=\"text-align: right;\">3.45316</td><td style=\"text-align: right;\">3.30322</td><td style=\"text-align: right;\">4.0448 </td><td style=\"text-align: right;\">4.3451 </td><td style=\"text-align: right;\">4.40305</td><td style=\"text-align: right;\">2.5096 </td><td style=\"text-align: right;\">3.09104</td><td style=\"text-align: right;\">3.43076</td><td style=\"text-align: right;\">3.66099</td><td style=\"text-align: right;\">3.71601</td><td style=\"text-align: right;\">3.39451</td><td style=\"text-align: right;\">3.69635</td><td style=\"text-align: right;\">1.79176</td><td style=\"text-align: right;\">2.3979 </td><td style=\"text-align: right;\">1.90211</td><td style=\"text-align: right;\">2.10413</td><td style=\"text-align: right;\">2.57261</td><td style=\"text-align: right;\">3.62167</td><td style=\"text-align: right;\">1.09861 </td><td style=\"text-align: right;\">2.70136</td><td style=\"text-align: right;\">2.73437</td><td style=\"text-align: right;\">1.41099 </td><td style=\"text-align: right;\">3.054  </td><td style=\"text-align: right;\">121891  </td></tr>\n",
       "<tr><td>('Tuscaloosa_Alabama',)</td><td style=\"text-align: right;\">     17.1</td><td style=\"text-align: right;\">   73.6</td><td style=\"text-align: right;\">     71.7</td><td style=\"text-align: right;\">        65.5</td><td style=\"text-align: right;\">          63.1</td><td style=\"text-align: right;\">   35.5</td><td style=\"text-align: right;\">   33.2</td><td style=\"text-align: right;\">    57.2</td><td style=\"text-align: right;\">      77.1</td><td style=\"text-align: right;\">     77.2</td><td style=\"text-align: right;\">   14.3</td><td style=\"text-align: right;\">      21.9</td><td style=\"text-align: right;\"> 31.5</td><td style=\"text-align: right;\">     32.3</td><td style=\"text-align: right;\">   39.5</td><td style=\"text-align: right;\">       23.2</td><td style=\"text-align: right;\">    32.6</td><td style=\"text-align: right;\">     4.6</td><td style=\"text-align: right;\">     10.9</td><td style=\"text-align: right;\">  5.4</td><td style=\"text-align: right;\">   7.1</td><td style=\"text-align: right;\">      10.3</td><td style=\"text-align: right;\">      35  </td><td style=\"text-align: right;\">     2.5</td><td style=\"text-align: right;\">   16.1</td><td style=\"text-align: right;\">   13.2</td><td style=\"text-align: right;\">     3.2</td><td style=\"text-align: right;\">       20.9</td><td style=\"text-align: right;\">292.41</td><td style=\"text-align: right;\">5416.96</td><td style=\"text-align: right;\">5140.89</td><td style=\"text-align: right;\">4290.25</td><td style=\"text-align: right;\">3981.61</td><td style=\"text-align: right;\">1260.25</td><td style=\"text-align: right;\">1102.24</td><td style=\"text-align: right;\">3271.84</td><td style=\"text-align: right;\">5944.41</td><td style=\"text-align: right;\">5959.84</td><td style=\"text-align: right;\">204.49</td><td style=\"text-align: right;\">479.61</td><td style=\"text-align: right;\"> 992.25</td><td style=\"text-align: right;\">1043.29</td><td style=\"text-align: right;\">1560.25</td><td style=\"text-align: right;\">538.24</td><td style=\"text-align: right;\">1062.76</td><td style=\"text-align: right;\">21.16</td><td style=\"text-align: right;\">118.81</td><td style=\"text-align: right;\">29.16</td><td style=\"text-align: right;\">50.41</td><td style=\"text-align: right;\">106.09</td><td style=\"text-align: right;\">1225   </td><td style=\"text-align: right;\"> 6.25</td><td style=\"text-align: right;\">259.21</td><td style=\"text-align: right;\">174.24</td><td style=\"text-align: right;\">10.24</td><td style=\"text-align: right;\">436.81</td><td style=\"text-align: right;\">2.83908</td><td style=\"text-align: right;\">4.29865</td><td style=\"text-align: right;\">4.27249</td><td style=\"text-align: right;\">4.18205</td><td style=\"text-align: right;\">4.14472</td><td style=\"text-align: right;\">3.56953</td><td style=\"text-align: right;\">3.50255</td><td style=\"text-align: right;\">4.04655</td><td style=\"text-align: right;\">4.3451 </td><td style=\"text-align: right;\">4.3464 </td><td style=\"text-align: right;\">2.66026</td><td style=\"text-align: right;\">3.08649</td><td style=\"text-align: right;\">3.44999</td><td style=\"text-align: right;\">3.47507</td><td style=\"text-align: right;\">3.6763 </td><td style=\"text-align: right;\">3.14415</td><td style=\"text-align: right;\">3.48431</td><td style=\"text-align: right;\">1.52606</td><td style=\"text-align: right;\">2.38876</td><td style=\"text-align: right;\">1.6864 </td><td style=\"text-align: right;\">1.96009</td><td style=\"text-align: right;\">2.33214</td><td style=\"text-align: right;\">3.55535</td><td style=\"text-align: right;\">0.916291</td><td style=\"text-align: right;\">2.77882</td><td style=\"text-align: right;\">2.58022</td><td style=\"text-align: right;\">1.16315 </td><td style=\"text-align: right;\">3.03975</td><td style=\"text-align: right;\"> 53591.5</td></tr>\n",
       "<tr><td>('Anchorage_Alaska',)  </td><td style=\"text-align: right;\">     15.1</td><td style=\"text-align: right;\">   63.7</td><td style=\"text-align: right;\">     55.1</td><td style=\"text-align: right;\">        68.8</td><td style=\"text-align: right;\">          57.5</td><td style=\"text-align: right;\">   32.4</td><td style=\"text-align: right;\">   28.8</td><td style=\"text-align: right;\">    65.8</td><td style=\"text-align: right;\">      68.9</td><td style=\"text-align: right;\">     78.3</td><td style=\"text-align: right;\">   20.6</td><td style=\"text-align: right;\">      17.9</td><td style=\"text-align: right;\"> 21.7</td><td style=\"text-align: right;\">     30.2</td><td style=\"text-align: right;\">   34  </td><td style=\"text-align: right;\">       18.5</td><td style=\"text-align: right;\">    26.8</td><td style=\"text-align: right;\">     5.3</td><td style=\"text-align: right;\">      9.3</td><td style=\"text-align: right;\">  4.2</td><td style=\"text-align: right;\">   4.6</td><td style=\"text-align: right;\">       7.2</td><td style=\"text-align: right;\">      34.8</td><td style=\"text-align: right;\">     2  </td><td style=\"text-align: right;\">   11  </td><td style=\"text-align: right;\">    9.9</td><td style=\"text-align: right;\">     2.2</td><td style=\"text-align: right;\">       12.6</td><td style=\"text-align: right;\">228.01</td><td style=\"text-align: right;\">4057.69</td><td style=\"text-align: right;\">3036.01</td><td style=\"text-align: right;\">4733.44</td><td style=\"text-align: right;\">3306.25</td><td style=\"text-align: right;\">1049.76</td><td style=\"text-align: right;\"> 829.44</td><td style=\"text-align: right;\">4329.64</td><td style=\"text-align: right;\">4747.21</td><td style=\"text-align: right;\">6130.89</td><td style=\"text-align: right;\">424.36</td><td style=\"text-align: right;\">320.41</td><td style=\"text-align: right;\"> 470.89</td><td style=\"text-align: right;\"> 912.04</td><td style=\"text-align: right;\">1156   </td><td style=\"text-align: right;\">342.25</td><td style=\"text-align: right;\"> 718.24</td><td style=\"text-align: right;\">28.09</td><td style=\"text-align: right;\"> 86.49</td><td style=\"text-align: right;\">17.64</td><td style=\"text-align: right;\">21.16</td><td style=\"text-align: right;\"> 51.84</td><td style=\"text-align: right;\">1211.04</td><td style=\"text-align: right;\"> 4   </td><td style=\"text-align: right;\">121   </td><td style=\"text-align: right;\"> 98.01</td><td style=\"text-align: right;\"> 4.84</td><td style=\"text-align: right;\">158.76</td><td style=\"text-align: right;\">2.71469</td><td style=\"text-align: right;\">4.15418</td><td style=\"text-align: right;\">4.00915</td><td style=\"text-align: right;\">4.2312 </td><td style=\"text-align: right;\">4.05178</td><td style=\"text-align: right;\">3.47816</td><td style=\"text-align: right;\">3.36038</td><td style=\"text-align: right;\">4.18662</td><td style=\"text-align: right;\">4.23266</td><td style=\"text-align: right;\">4.36055</td><td style=\"text-align: right;\">3.02529</td><td style=\"text-align: right;\">2.8848 </td><td style=\"text-align: right;\">3.07731</td><td style=\"text-align: right;\">3.40784</td><td style=\"text-align: right;\">3.52636</td><td style=\"text-align: right;\">2.91777</td><td style=\"text-align: right;\">3.2884 </td><td style=\"text-align: right;\">1.66771</td><td style=\"text-align: right;\">2.23001</td><td style=\"text-align: right;\">1.43508</td><td style=\"text-align: right;\">1.52606</td><td style=\"text-align: right;\">1.97408</td><td style=\"text-align: right;\">3.54962</td><td style=\"text-align: right;\">0.693147</td><td style=\"text-align: right;\">2.3979 </td><td style=\"text-align: right;\">2.29253</td><td style=\"text-align: right;\">0.788457</td><td style=\"text-align: right;\">2.5337 </td><td style=\"text-align: right;\">144809  </td></tr>\n",
       "<tr><td>('Avondale_Arizona',)  </td><td style=\"text-align: right;\">     22.5</td><td style=\"text-align: right;\">   65.9</td><td style=\"text-align: right;\">     63.8</td><td style=\"text-align: right;\">        68.7</td><td style=\"text-align: right;\">          56.6</td><td style=\"text-align: right;\">   28.3</td><td style=\"text-align: right;\">   27.5</td><td style=\"text-align: right;\">    56.4</td><td style=\"text-align: right;\">      75.9</td><td style=\"text-align: right;\">     79.7</td><td style=\"text-align: right;\">   15.5</td><td style=\"text-align: right;\">      17.3</td><td style=\"text-align: right;\"> 26.2</td><td style=\"text-align: right;\">     29.8</td><td style=\"text-align: right;\">   37  </td><td style=\"text-align: right;\">       16.7</td><td style=\"text-align: right;\">    24.8</td><td style=\"text-align: right;\">     4.3</td><td style=\"text-align: right;\">      9.3</td><td style=\"text-align: right;\">  4.1</td><td style=\"text-align: right;\">   5.3</td><td style=\"text-align: right;\">       9.2</td><td style=\"text-align: right;\">      32.7</td><td style=\"text-align: right;\">     2.5</td><td style=\"text-align: right;\">   13.3</td><td style=\"text-align: right;\">   12.3</td><td style=\"text-align: right;\">     2.3</td><td style=\"text-align: right;\">       15.3</td><td style=\"text-align: right;\">506.25</td><td style=\"text-align: right;\">4342.81</td><td style=\"text-align: right;\">4070.44</td><td style=\"text-align: right;\">4719.69</td><td style=\"text-align: right;\">3203.56</td><td style=\"text-align: right;\"> 800.89</td><td style=\"text-align: right;\"> 756.25</td><td style=\"text-align: right;\">3180.96</td><td style=\"text-align: right;\">5760.81</td><td style=\"text-align: right;\">6352.09</td><td style=\"text-align: right;\">240.25</td><td style=\"text-align: right;\">299.29</td><td style=\"text-align: right;\"> 686.44</td><td style=\"text-align: right;\"> 888.04</td><td style=\"text-align: right;\">1369   </td><td style=\"text-align: right;\">278.89</td><td style=\"text-align: right;\"> 615.04</td><td style=\"text-align: right;\">18.49</td><td style=\"text-align: right;\"> 86.49</td><td style=\"text-align: right;\">16.81</td><td style=\"text-align: right;\">28.09</td><td style=\"text-align: right;\"> 84.64</td><td style=\"text-align: right;\">1069.29</td><td style=\"text-align: right;\"> 6.25</td><td style=\"text-align: right;\">176.89</td><td style=\"text-align: right;\">151.29</td><td style=\"text-align: right;\"> 5.29</td><td style=\"text-align: right;\">234.09</td><td style=\"text-align: right;\">3.11352</td><td style=\"text-align: right;\">4.18814</td><td style=\"text-align: right;\">4.15575</td><td style=\"text-align: right;\">4.22975</td><td style=\"text-align: right;\">4.03601</td><td style=\"text-align: right;\">3.34286</td><td style=\"text-align: right;\">3.31419</td><td style=\"text-align: right;\">4.03247</td><td style=\"text-align: right;\">4.32942</td><td style=\"text-align: right;\">4.37827</td><td style=\"text-align: right;\">2.74084</td><td style=\"text-align: right;\">2.85071</td><td style=\"text-align: right;\">3.26576</td><td style=\"text-align: right;\">3.39451</td><td style=\"text-align: right;\">3.61092</td><td style=\"text-align: right;\">2.81541</td><td style=\"text-align: right;\">3.21084</td><td style=\"text-align: right;\">1.45862</td><td style=\"text-align: right;\">2.23001</td><td style=\"text-align: right;\">1.41099</td><td style=\"text-align: right;\">1.66771</td><td style=\"text-align: right;\">2.2192 </td><td style=\"text-align: right;\">3.48738</td><td style=\"text-align: right;\">0.916291</td><td style=\"text-align: right;\">2.58776</td><td style=\"text-align: right;\">2.5096 </td><td style=\"text-align: right;\">0.832909</td><td style=\"text-align: right;\">2.72785</td><td style=\"text-align: right;\"> 27514.6</td></tr>\n",
       "<tr><td>('Chandler_Arizona',)  </td><td style=\"text-align: right;\">     12.3</td><td style=\"text-align: right;\">   68.9</td><td style=\"text-align: right;\">     66.2</td><td style=\"text-align: right;\">        76.9</td><td style=\"text-align: right;\">          64.8</td><td style=\"text-align: right;\">   33.8</td><td style=\"text-align: right;\">   34.8</td><td style=\"text-align: right;\">    67.7</td><td style=\"text-align: right;\">      78.6</td><td style=\"text-align: right;\">     83  </td><td style=\"text-align: right;\">   16.2</td><td style=\"text-align: right;\">      13.8</td><td style=\"text-align: right;\"> 20.2</td><td style=\"text-align: right;\">     24.9</td><td style=\"text-align: right;\">   33.7</td><td style=\"text-align: right;\">       17.5</td><td style=\"text-align: right;\">    24  </td><td style=\"text-align: right;\">     5.6</td><td style=\"text-align: right;\">      8.5</td><td style=\"text-align: right;\">  3.9</td><td style=\"text-align: right;\">   4.6</td><td style=\"text-align: right;\">       7.3</td><td style=\"text-align: right;\">      32.5</td><td style=\"text-align: right;\">     2.2</td><td style=\"text-align: right;\">   10.5</td><td style=\"text-align: right;\">    9.5</td><td style=\"text-align: right;\">     2  </td><td style=\"text-align: right;\">        9.7</td><td style=\"text-align: right;\">151.29</td><td style=\"text-align: right;\">4747.21</td><td style=\"text-align: right;\">4382.44</td><td style=\"text-align: right;\">5913.61</td><td style=\"text-align: right;\">4199.04</td><td style=\"text-align: right;\">1142.44</td><td style=\"text-align: right;\">1211.04</td><td style=\"text-align: right;\">4583.29</td><td style=\"text-align: right;\">6177.96</td><td style=\"text-align: right;\">6889   </td><td style=\"text-align: right;\">262.44</td><td style=\"text-align: right;\">190.44</td><td style=\"text-align: right;\"> 408.04</td><td style=\"text-align: right;\"> 620.01</td><td style=\"text-align: right;\">1135.69</td><td style=\"text-align: right;\">306.25</td><td style=\"text-align: right;\"> 576   </td><td style=\"text-align: right;\">31.36</td><td style=\"text-align: right;\"> 72.25</td><td style=\"text-align: right;\">15.21</td><td style=\"text-align: right;\">21.16</td><td style=\"text-align: right;\"> 53.29</td><td style=\"text-align: right;\">1056.25</td><td style=\"text-align: right;\"> 4.84</td><td style=\"text-align: right;\">110.25</td><td style=\"text-align: right;\"> 90.25</td><td style=\"text-align: right;\"> 4   </td><td style=\"text-align: right;\"> 94.09</td><td style=\"text-align: right;\">2.5096 </td><td style=\"text-align: right;\">4.23266</td><td style=\"text-align: right;\">4.19268</td><td style=\"text-align: right;\">4.34251</td><td style=\"text-align: right;\">4.17131</td><td style=\"text-align: right;\">3.52046</td><td style=\"text-align: right;\">3.54962</td><td style=\"text-align: right;\">4.21509</td><td style=\"text-align: right;\">4.36437</td><td style=\"text-align: right;\">4.41884</td><td style=\"text-align: right;\">2.78501</td><td style=\"text-align: right;\">2.62467</td><td style=\"text-align: right;\">3.00568</td><td style=\"text-align: right;\">3.21487</td><td style=\"text-align: right;\">3.5175 </td><td style=\"text-align: right;\">2.8622 </td><td style=\"text-align: right;\">3.17805</td><td style=\"text-align: right;\">1.72277</td><td style=\"text-align: right;\">2.14007</td><td style=\"text-align: right;\">1.36098</td><td style=\"text-align: right;\">1.52606</td><td style=\"text-align: right;\">1.98787</td><td style=\"text-align: right;\">3.48124</td><td style=\"text-align: right;\">0.788457</td><td style=\"text-align: right;\">2.35138</td><td style=\"text-align: right;\">2.25129</td><td style=\"text-align: right;\">0.693147</td><td style=\"text-align: right;\">2.27213</td><td style=\"text-align: right;\"> 85217.8</td></tr>\n",
       "<tr><td>('Gilbert_Arizona',)   </td><td style=\"text-align: right;\">      9.9</td><td style=\"text-align: right;\">   67  </td><td style=\"text-align: right;\">     65.6</td><td style=\"text-align: right;\">        77.9</td><td style=\"text-align: right;\">          66.5</td><td style=\"text-align: right;\">   34.6</td><td style=\"text-align: right;\">   36.7</td><td style=\"text-align: right;\">    70.8</td><td style=\"text-align: right;\">      79.6</td><td style=\"text-align: right;\">     84.7</td><td style=\"text-align: right;\">   17.7</td><td style=\"text-align: right;\">      13.6</td><td style=\"text-align: right;\"> 18.5</td><td style=\"text-align: right;\">     24.1</td><td style=\"text-align: right;\">   33.2</td><td style=\"text-align: right;\">       16.4</td><td style=\"text-align: right;\">    22.1</td><td style=\"text-align: right;\">     5.3</td><td style=\"text-align: right;\">      8.5</td><td style=\"text-align: right;\">  3.3</td><td style=\"text-align: right;\">   4.2</td><td style=\"text-align: right;\">       6.2</td><td style=\"text-align: right;\">      30.9</td><td style=\"text-align: right;\">     1.9</td><td style=\"text-align: right;\">   10.2</td><td style=\"text-align: right;\">    8.5</td><td style=\"text-align: right;\">     1.7</td><td style=\"text-align: right;\">        7.9</td><td style=\"text-align: right;\"> 98.01</td><td style=\"text-align: right;\">4489   </td><td style=\"text-align: right;\">4303.36</td><td style=\"text-align: right;\">6068.41</td><td style=\"text-align: right;\">4422.25</td><td style=\"text-align: right;\">1197.16</td><td style=\"text-align: right;\">1346.89</td><td style=\"text-align: right;\">5012.64</td><td style=\"text-align: right;\">6336.16</td><td style=\"text-align: right;\">7174.09</td><td style=\"text-align: right;\">313.29</td><td style=\"text-align: right;\">184.96</td><td style=\"text-align: right;\"> 342.25</td><td style=\"text-align: right;\"> 580.81</td><td style=\"text-align: right;\">1102.24</td><td style=\"text-align: right;\">268.96</td><td style=\"text-align: right;\"> 488.41</td><td style=\"text-align: right;\">28.09</td><td style=\"text-align: right;\"> 72.25</td><td style=\"text-align: right;\">10.89</td><td style=\"text-align: right;\">17.64</td><td style=\"text-align: right;\"> 38.44</td><td style=\"text-align: right;\"> 954.81</td><td style=\"text-align: right;\"> 3.61</td><td style=\"text-align: right;\">104.04</td><td style=\"text-align: right;\"> 72.25</td><td style=\"text-align: right;\"> 2.89</td><td style=\"text-align: right;\"> 62.41</td><td style=\"text-align: right;\">2.29253</td><td style=\"text-align: right;\">4.20469</td><td style=\"text-align: right;\">4.18358</td><td style=\"text-align: right;\">4.35543</td><td style=\"text-align: right;\">4.1972 </td><td style=\"text-align: right;\">3.54385</td><td style=\"text-align: right;\">3.60278</td><td style=\"text-align: right;\">4.25986</td><td style=\"text-align: right;\">4.37701</td><td style=\"text-align: right;\">4.43912</td><td style=\"text-align: right;\">2.87356</td><td style=\"text-align: right;\">2.61007</td><td style=\"text-align: right;\">2.91777</td><td style=\"text-align: right;\">3.18221</td><td style=\"text-align: right;\">3.50255</td><td style=\"text-align: right;\">2.79728</td><td style=\"text-align: right;\">3.09558</td><td style=\"text-align: right;\">1.66771</td><td style=\"text-align: right;\">2.14007</td><td style=\"text-align: right;\">1.19392</td><td style=\"text-align: right;\">1.43508</td><td style=\"text-align: right;\">1.82455</td><td style=\"text-align: right;\">3.43076</td><td style=\"text-align: right;\">0.641854</td><td style=\"text-align: right;\">2.32239</td><td style=\"text-align: right;\">2.14007</td><td style=\"text-align: right;\">0.530628</td><td style=\"text-align: right;\">2.06686</td><td style=\"text-align: right;\"> 75231.6</td></tr>\n",
       "</tbody>\n",
       "</table>"
      ]
     },
     "metadata": {},
     "output_type": "display_data"
    },
    {
     "data": {
      "text/plain": []
     },
     "execution_count": 6,
     "metadata": {},
     "output_type": "execute_result"
    }
   ],
   "source": [
    "train"
   ]
  },
  {
   "cell_type": "code",
   "execution_count": 7,
   "metadata": {},
   "outputs": [
    {
     "data": {
      "text/html": [
       "<table>\n",
       "<thead>\n",
       "<tr><th>       </th><th>C1                     </th><th>ACCESS2           </th><th>BPMED            </th><th>CHECKUP          </th><th>CHOLSCREEN       </th><th>COLON_SCREEN      </th><th>COREM             </th><th>COREW            </th><th>DENTAL            </th><th>MAMMOUSE          </th><th>PAPTEST           </th><th>BINGE             </th><th>CSMOKING          </th><th>LPA               </th><th>OBESITY          </th><th>SLEEP             </th><th>ARTHRITIS         </th><th>BPHIGH           </th><th>CANCER            </th><th>CASTHMA           </th><th>CHD               </th><th>COPD              </th><th>DIABETES          </th><th>HIGHCHOL          </th><th>KIDNEY             </th><th>MHLTH             </th><th>PHLTH             </th><th>STROKE            </th><th>TEETHLOST         </th><th>C30               </th><th>C31              </th><th>C32              </th><th>C33              </th><th>C34              </th><th>C35               </th><th>C36              </th><th>C37               </th><th>C38              </th><th>C39              </th><th>C40               </th><th>C41              </th><th>C42               </th><th>C43              </th><th>C44               </th><th>C45               </th><th>C46               </th><th>C47               </th><th>C48               </th><th>C49               </th><th>C50               </th><th>C51               </th><th>C52               </th><th>C53              </th><th>C54              </th><th>C55               </th><th>C56              </th><th>C57               </th><th>C58                </th><th>C59                </th><th>C60                </th><th>C61              </th><th>C62                </th><th>C63                </th><th>C64                </th><th>C65                </th><th>C66                </th><th>C67                </th><th>C68                </th><th>C69               </th><th>C70                </th><th>C71                </th><th>C72                </th><th>C73                </th><th>C74                </th><th>C75                </th><th>C76                </th><th>C77                </th><th>C78               </th><th>C79                </th><th>C80               </th><th>C81                </th><th>C82                </th><th>C83                </th><th>C84                </th><th>C85               </th><th>y                </th></tr>\n",
       "</thead>\n",
       "<tbody>\n",
       "<tr><td>type   </td><td>string                 </td><td>real              </td><td>real             </td><td>real             </td><td>real             </td><td>real              </td><td>real              </td><td>real             </td><td>real              </td><td>real              </td><td>real              </td><td>real              </td><td>real              </td><td>real              </td><td>real             </td><td>real              </td><td>real              </td><td>real             </td><td>real              </td><td>real              </td><td>real              </td><td>real              </td><td>real              </td><td>real              </td><td>real               </td><td>real              </td><td>real              </td><td>real              </td><td>real              </td><td>real              </td><td>real             </td><td>real             </td><td>real             </td><td>real             </td><td>real              </td><td>real             </td><td>real              </td><td>real             </td><td>real             </td><td>real              </td><td>real             </td><td>real              </td><td>real             </td><td>real              </td><td>real              </td><td>real              </td><td>real              </td><td>real              </td><td>real              </td><td>real              </td><td>real              </td><td>real              </td><td>real             </td><td>real             </td><td>real              </td><td>real             </td><td>real              </td><td>real               </td><td>real               </td><td>real               </td><td>real             </td><td>real               </td><td>real               </td><td>real               </td><td>real               </td><td>real               </td><td>real               </td><td>real               </td><td>real              </td><td>real               </td><td>real               </td><td>real               </td><td>real               </td><td>real               </td><td>real               </td><td>real               </td><td>real               </td><td>real              </td><td>real               </td><td>real              </td><td>real               </td><td>real               </td><td>real               </td><td>real               </td><td>real              </td><td>real             </td></tr>\n",
       "<tr><td>mins   </td><td>NaN                    </td><td>4.1               </td><td>55.4             </td><td>51.9             </td><td>45.7             </td><td>43.5              </td><td>17.4              </td><td>16.2             </td><td>39.4              </td><td>62.7              </td><td>62.5              </td><td>8.4               </td><td>8.1               </td><td>13.3              </td><td>15.0             </td><td>24.4              </td><td>9.2               </td><td>15.6             </td><td>2.8               </td><td>6.6               </td><td>2.5               </td><td>2.8               </td><td>4.1               </td><td>24.2              </td><td>1.7                </td><td>7.6               </td><td>7.0               </td><td>1.4               </td><td>4.9               </td><td>16.81             </td><td>3069.16          </td><td>2693.61          </td><td>2088.49          </td><td>1892.25          </td><td>302.76            </td><td>262.44           </td><td>1552.36           </td><td>3931.29          </td><td>3906.25          </td><td>70.56             </td><td>65.61            </td><td>176.89            </td><td>225.0            </td><td>595.36            </td><td>84.64             </td><td>243.36            </td><td>7.84              </td><td>43.56             </td><td>6.25              </td><td>7.84              </td><td>16.81             </td><td>585.64            </td><td>2.89             </td><td>57.76            </td><td>49.0              </td><td>1.96             </td><td>24.01             </td><td>1.410986974        </td><td>4.014579594        </td><td>3.94931879         </td><td>3.822098298      </td><td>3.772760938        </td><td>2.856470206        </td><td>2.785011242        </td><td>3.673765816        </td><td>4.138361448        </td><td>4.135166557        </td><td>2.128231706        </td><td>2.091864062       </td><td>2.587764035        </td><td>2.708050201        </td><td>3.194583132        </td><td>2.219203484        </td><td>2.747270914        </td><td>1.029619417        </td><td>1.887069649        </td><td>0.916290732        </td><td>1.029619417       </td><td>1.410986974        </td><td>3.186352633       </td><td>0.530628251        </td><td>2.028148247        </td><td>1.945910149        </td><td>0.336472237        </td><td>1.589235205       </td><td>4161.03          </td></tr>\n",
       "<tr><td>mean   </td><td>NaN                    </td><td>16.46392785571142 </td><td>72.54088176352704</td><td>67.537875751503  </td><td>72.77154308617234</td><td>61.111222444889776</td><td>31.383967935871745</td><td>29.93947895791583</td><td>61.941082164328655</td><td>75.27014028056111 </td><td>79.52124248496993 </td><td>16.918436873747492</td><td>17.628456913827655</td><td>25.511823647294587</td><td>28.81482965931864</td><td>35.630060120240486</td><td>21.649699398797598</td><td>29.39879759519038</td><td>5.715430861723447 </td><td>9.224649298597194 </td><td>5.46312625250501  </td><td>5.924448897795592 </td><td>9.820240480961925 </td><td>34.423246492985974</td><td>2.599198396793587  </td><td>12.577755511022042</td><td>12.362324649298596</td><td>2.9044088176352707</td><td>14.587575150300603</td><td>313.83472945891776</td><td>5282.728517034068</td><td>4588.303927855712</td><td>5322.86384769539 </td><td>3766.573326653306</td><td>1010.9259719438877</td><td>921.7688977955912</td><td>3893.2732264529054</td><td>5680.994388777555</td><td>6337.343507014029</td><td>292.72975951903805</td><td>328.872625250501 </td><td>687.920641282565  </td><td>861.5804008016032</td><td>1289.4273346693387</td><td>486.36529058116224</td><td>889.4520641282566 </td><td>33.64496993987975 </td><td>86.47132264529058 </td><td>31.394609218436873</td><td>37.616052104208414</td><td>102.29841683366733</td><td>1194.1535871743486</td><td>6.943486973947896</td><td>162.6613026052104</td><td>159.26805611222446</td><td>9.0387374749499  </td><td>237.58837675350696</td><td>2.7265469941963927 </td><td>4.282168349529058  </td><td>4.209730241787574  </td><td>4.284674302064128</td><td>4.108188961242485  </td><td>3.432570115697395  </td><td>3.3842471513426853 </td><td>4.118679410140281  </td><td>4.319692765308617  </td><td>4.374918761903808  </td><td>2.8167410742144288 </td><td>2.838987168815631 </td><td>3.209976605507014  </td><td>3.3409201483366737 </td><td>3.5654294515931864 </td><td>3.0560297730781563 </td><td>3.366596694036072  </td><td>1.7280006265731462 </td><td>2.2139972001482966 </td><td>1.6722718405871742 </td><td>1.7440332973166333</td><td>2.2543476550981962 </td><td>3.534758038360721 </td><td>0.9417593276112225 </td><td>2.5173204319118234 </td><td>2.4928830755470943 </td><td>1.0324474239218437 </td><td>2.620318807138277 </td><td>88880.52304609219</td></tr>\n",
       "<tr><td>maxs   </td><td>NaN                    </td><td>48.3              </td><td>83.1             </td><td>81.8             </td><td>84.5             </td><td>76.4              </td><td>48.5              </td><td>43.8             </td><td>80.1              </td><td>84.6              </td><td>87.5              </td><td>25.6              </td><td>31.6              </td><td>43.2              </td><td>45.3             </td><td>51.3              </td><td>34.8              </td><td>49.2             </td><td>9.0               </td><td>13.5              </td><td>9.8               </td><td>11.6              </td><td>21.0              </td><td>42.8              </td><td>4.5                </td><td>18.0              </td><td>19.5              </td><td>6.8               </td><td>30.4              </td><td>2332.89           </td><td>6905.61          </td><td>6691.24          </td><td>7140.25          </td><td>5836.96          </td><td>2352.25           </td><td>1918.44          </td><td>6416.01           </td><td>7157.16          </td><td>7656.25          </td><td>655.36            </td><td>998.56           </td><td>1866.24           </td><td>2052.09          </td><td>2631.69           </td><td>1211.04           </td><td>2420.64           </td><td>81.0              </td><td>182.25            </td><td>96.04             </td><td>134.56            </td><td>441.0             </td><td>1831.84           </td><td>20.25            </td><td>324.0            </td><td>380.25            </td><td>46.24            </td><td>924.16            </td><td>3.877431561        </td><td>4.420044702        </td><td>4.404277244        </td><td>4.436751534      </td><td>4.335982696        </td><td>3.881563798        </td><td>3.779633817        </td><td>4.383275854        </td><td>4.437934267        </td><td>4.471638793        </td><td>3.242592351        </td><td>3.453157121       </td><td>3.765840495        </td><td>3.813307032        </td><td>3.937690752        </td><td>3.549617387        </td><td>3.895893623        </td><td>2.197224577        </td><td>2.602689685        </td><td>2.282382386        </td><td>2.451005098       </td><td>3.044522438        </td><td>3.756538103       </td><td>1.504077397        </td><td>2.890371758        </td><td>2.970414466        </td><td>1.916922612        </td><td>3.414442608       </td><td>5496625.59       </td></tr>\n",
       "<tr><td>sigma  </td><td>NaN                    </td><td>6.5467320247295975</td><td>4.5376484037652  </td><td>5.195513616916761</td><td>5.217366719484999</td><td>5.6618070033151415</td><td>5.101439229848506 </td><td>5.044550971799815</td><td>7.529221229353319 </td><td>3.9282687486738923</td><td>3.7071608849124855</td><td>2.5513325838346503</td><td>4.259870633588176 </td><td>6.0944177895625815</td><td>5.599001320251568</td><td>4.468351244898272 </td><td>4.206097948172167 </td><td>5.021283872079955</td><td>0.9903461550167622</td><td>1.1747056485338354</td><td>1.2457812527933747</td><td>1.5880842209609818</td><td>2.4234404048517555</td><td>3.035152266110653 </td><td>0.43362597322584256</td><td>2.114314896668371 </td><td>2.540456471413398 </td><td>0.7774046779739288</td><td>4.984055494127035 </td><td>277.6933065033871 </td><td>654.0372198813811</td><td>705.8714314462161</td><td>749.1106059190637</td><td>675.5236459945324</td><td>322.87731485286105</td><td>302.7867457233399</td><td>936.9958917806771 </td><td>583.2434032414562</td><td>583.2557597192748</td><td>88.13591240900017 </td><td>155.6202186488991</td><td>324.01372138564477</td><td>323.8572497361551</td><td>328.32719905372454</td><td>189.6901068887664 </td><td>311.64328302107924</td><td>11.693461365391936</td><td>22.588692462441454</td><td>14.60340350649427 </td><td>20.7518817031656  </td><td>52.14716919564353 </td><td>207.53316303762034</td><td>2.410245172695231</td><td>53.54864022912409</td><td>64.32339319155638 </td><td>5.223062409444314</td><td>162.92558119707277</td><td>0.38925197425731606</td><td>0.06328312532812405</td><td>0.07707809092834027</td><td>0.073597012390809</td><td>0.09638283272866313</td><td>0.16817743031101492</td><td>0.17601102881471034</td><td>0.12335990555743584</td><td>0.05311189731943049</td><td>0.04731044942656262</td><td>0.15472223735298046</td><td>0.2517094245446552</td><td>0.24421691347211913</td><td>0.20380783958086665</td><td>0.12461713909747743</td><td>0.19611153863210193</td><td>0.16981652755819013</td><td>0.17562113048172662</td><td>0.12509556655333223</td><td>0.22802325873548637</td><td>0.2652443014385147</td><td>0.24694145179665555</td><td>0.0898818565081072</td><td>0.16344666130394286</td><td>0.17308576706932827</td><td>0.21134611065246153</td><td>0.25887300122035517</td><td>0.3526977231231281</td><td>274307.586949147 </td></tr>\n",
       "<tr><td>zeros  </td><td>0                      </td><td>0                 </td><td>0                </td><td>0                </td><td>0                </td><td>0                 </td><td>0                 </td><td>0                </td><td>0                 </td><td>0                 </td><td>0                 </td><td>0                 </td><td>0                 </td><td>0                 </td><td>0                </td><td>0                 </td><td>0                 </td><td>0                </td><td>0                 </td><td>0                 </td><td>0                 </td><td>0                 </td><td>0                 </td><td>0                 </td><td>0                  </td><td>0                 </td><td>0                 </td><td>0                 </td><td>0                 </td><td>0                 </td><td>0                </td><td>0                </td><td>0                </td><td>0                </td><td>0                 </td><td>0                </td><td>0                 </td><td>0                </td><td>0                </td><td>0                 </td><td>0                </td><td>0                 </td><td>0                </td><td>0                 </td><td>0                 </td><td>0                 </td><td>0                 </td><td>0                 </td><td>0                 </td><td>0                 </td><td>0                 </td><td>0                 </td><td>0                </td><td>0                </td><td>0                 </td><td>0                </td><td>0                 </td><td>0                  </td><td>0                  </td><td>0                  </td><td>0                </td><td>0                  </td><td>0                  </td><td>0                  </td><td>0                  </td><td>0                  </td><td>0                  </td><td>0                  </td><td>0                 </td><td>0                  </td><td>0                  </td><td>0                  </td><td>0                  </td><td>0                  </td><td>0                  </td><td>0                  </td><td>0                  </td><td>0                 </td><td>0                  </td><td>0                 </td><td>0                  </td><td>0                  </td><td>0                  </td><td>0                  </td><td>0                 </td><td>0                </td></tr>\n",
       "<tr><td>missing</td><td>0                      </td><td>0                 </td><td>0                </td><td>0                </td><td>0                </td><td>0                 </td><td>0                 </td><td>0                </td><td>0                 </td><td>0                 </td><td>0                 </td><td>0                 </td><td>0                 </td><td>0                 </td><td>0                </td><td>0                 </td><td>0                 </td><td>0                </td><td>0                 </td><td>0                 </td><td>0                 </td><td>0                 </td><td>0                 </td><td>0                 </td><td>0                  </td><td>0                 </td><td>0                 </td><td>0                 </td><td>0                 </td><td>0                 </td><td>0                </td><td>0                </td><td>0                </td><td>0                </td><td>0                 </td><td>0                </td><td>0                 </td><td>0                </td><td>0                </td><td>0                 </td><td>0                </td><td>0                 </td><td>0                </td><td>0                 </td><td>0                 </td><td>0                 </td><td>0                 </td><td>0                 </td><td>0                 </td><td>0                 </td><td>0                 </td><td>0                 </td><td>0                </td><td>0                </td><td>0                 </td><td>0                </td><td>0                 </td><td>0                  </td><td>0                  </td><td>0                  </td><td>0                </td><td>0                  </td><td>0                  </td><td>0                  </td><td>0                  </td><td>0                  </td><td>0                  </td><td>0                  </td><td>0                 </td><td>0                  </td><td>0                  </td><td>0                  </td><td>0                  </td><td>0                  </td><td>0                  </td><td>0                  </td><td>0                  </td><td>0                 </td><td>0                  </td><td>0                 </td><td>0                  </td><td>0                  </td><td>0                  </td><td>0                  </td><td>0                 </td><td>0                </td></tr>\n",
       "<tr><td>0      </td><td>('Birmingham_Alabama',)</td><td>19.6              </td><td>81.3             </td><td>76.7             </td><td>74.8             </td><td>61.1              </td><td>29.9              </td><td>27.3             </td><td>49.3              </td><td>76.8              </td><td>78.6              </td><td>11.3              </td><td>24.4              </td><td>37.0              </td><td>41.9             </td><td>46.5              </td><td>30.9              </td><td>43.8             </td><td>5.7               </td><td>11.5              </td><td>7.7               </td><td>9.1               </td><td>16.8              </td><td>39.2              </td><td>3.6                </td><td>15.6              </td><td>16.4              </td><td>5.2               </td><td>26.1              </td><td>384.16            </td><td>6609.69          </td><td>5882.89          </td><td>5595.04          </td><td>3733.21          </td><td>894.01            </td><td>745.29           </td><td>2430.49           </td><td>5898.24          </td><td>6177.96          </td><td>127.69            </td><td>595.36           </td><td>1369.0            </td><td>1755.61          </td><td>2162.25           </td><td>954.81            </td><td>1918.44           </td><td>32.49             </td><td>132.25            </td><td>59.29             </td><td>82.81             </td><td>282.24            </td><td>1536.64           </td><td>12.96            </td><td>243.36           </td><td>268.96            </td><td>27.04            </td><td>681.21            </td><td>2.975529566        </td><td>4.398146017        </td><td>4.339901708        </td><td>4.314817885      </td><td>4.112511866        </td><td>3.39785848         </td><td>3.306886702        </td><td>3.897924081        </td><td>4.34120464         </td><td>4.364371699        </td><td>2.424802726        </td><td>3.194583132       </td><td>3.610917913        </td><td>3.735285827        </td><td>3.839452313        </td><td>3.430756184        </td><td>3.779633817        </td><td>1.740466175        </td><td>2.442347035        </td><td>2.041220329        </td><td>2.208274414       </td><td>2.821378886        </td><td>3.668676747       </td><td>1.280933845        </td><td>2.747270914        </td><td>2.797281335        </td><td>1.648658626        </td><td>3.261935314       </td><td>125725.01        </td></tr>\n",
       "<tr><td>1      </td><td>('Hoover_Alabama',)    </td><td>9.7               </td><td>77.7             </td><td>73.6             </td><td>82.1             </td><td>72.4              </td><td>41.7              </td><td>41.5             </td><td>72.7              </td><td>79.7              </td><td>85.8              </td><td>14.9              </td><td>14.1              </td><td>23.7              </td><td>28.6             </td><td>34.6              </td><td>25.3              </td><td>30.7             </td><td>6.6               </td><td>8.6               </td><td>5.0               </td><td>5.2               </td><td>8.1               </td><td>35.9              </td><td>2.2                </td><td>10.4              </td><td>9.4               </td><td>2.2               </td><td>9.6               </td><td>94.09             </td><td>6037.29          </td><td>5416.96          </td><td>6740.41          </td><td>5241.76          </td><td>1738.89           </td><td>1722.25          </td><td>5285.29           </td><td>6352.09          </td><td>7361.64          </td><td>222.01            </td><td>198.81           </td><td>561.69            </td><td>817.96           </td><td>1197.16           </td><td>640.09            </td><td>942.49            </td><td>43.56             </td><td>73.96             </td><td>25.0              </td><td>27.04             </td><td>65.61             </td><td>1288.81           </td><td>4.84             </td><td>108.16           </td><td>88.36             </td><td>4.84             </td><td>92.16             </td><td>2.272125886        </td><td>4.352855257        </td><td>4.298645026        </td><td>4.407938016      </td><td>4.282206299        </td><td>3.730501129        </td><td>3.725693427        </td><td>4.286341385        </td><td>4.378269586        </td><td>4.452019006        </td><td>2.701361213        </td><td>2.646174797       </td><td>3.165475048        </td><td>3.353406718        </td><td>3.543853682        </td><td>3.230804396        </td><td>3.424262655        </td><td>1.887069649        </td><td>2.151762203        </td><td>1.609437912        </td><td>1.648658626       </td><td>2.091864062        </td><td>3.580737295       </td><td>0.78845736         </td><td>2.341805806        </td><td>2.240709689        </td><td>0.78845736         </td><td>2.261763098       </td><td>48349.49         </td></tr>\n",
       "<tr><td>2      </td><td>('Huntsville_Alabama',)</td><td>15.1              </td><td>79.0             </td><td>73.3             </td><td>76.8             </td><td>65.0              </td><td>39.5              </td><td>36.6             </td><td>60.7              </td><td>76.9              </td><td>82.4              </td><td>11.8              </td><td>19.1              </td><td>26.9              </td><td>33.8             </td><td>39.2              </td><td>27.5              </td><td>36.8             </td><td>6.6               </td><td>9.8               </td><td>6.5               </td><td>7.6               </td><td>11.5              </td><td>38.9              </td><td>2.8                </td><td>13.3              </td><td>13.3              </td><td>3.4               </td><td>14.9              </td><td>228.01            </td><td>6241.0           </td><td>5372.89          </td><td>5898.24          </td><td>4225.0           </td><td>1560.25           </td><td>1339.56          </td><td>3684.49           </td><td>5913.61          </td><td>6789.76          </td><td>139.24            </td><td>364.81           </td><td>723.61            </td><td>1142.44          </td><td>1536.64           </td><td>756.25            </td><td>1354.24           </td><td>43.56             </td><td>96.04             </td><td>42.25             </td><td>57.76             </td><td>132.25            </td><td>1513.21           </td><td>7.84             </td><td>176.89           </td><td>176.89            </td><td>11.56            </td><td>222.01            </td><td>2.714694744        </td><td>4.369447852        </td><td>4.294560609        </td><td>4.34120464       </td><td>4.17438727         </td><td>3.676300672        </td><td>3.60004824         </td><td>4.105943698        </td><td>4.342505877        </td><td>4.411585437        </td><td>2.468099531        </td><td>2.949688335       </td><td>3.292126287        </td><td>3.520460802        </td><td>3.668676747        </td><td>3.314186005        </td><td>3.605497845        </td><td>1.887069649        </td><td>2.282382386        </td><td>1.871802177        </td><td>2.028148247       </td><td>2.442347035        </td><td>3.660994251       </td><td>1.029619417        </td><td>2.587764035        </td><td>2.587764035        </td><td>1.223775432        </td><td>2.701361213       </td><td>106690.65        </td></tr>\n",
       "<tr><td>3      </td><td>('Mobile_Alabama',)    </td><td>16.9              </td><td>79.3             </td><td>73.6             </td><td>75.9             </td><td>61.6              </td><td>33.9              </td><td>31.6             </td><td>52.9              </td><td>76.0              </td><td>80.8              </td><td>12.9              </td><td>22.8              </td><td>34.2              </td><td>34.7             </td><td>41.6              </td><td>30.5              </td><td>42.0             </td><td>6.5               </td><td>10.8              </td><td>7.7               </td><td>8.8               </td><td>13.8              </td><td>39.9              </td><td>3.2                </td><td>14.9              </td><td>15.6              </td><td>4.4               </td><td>24.3              </td><td>285.61            </td><td>6288.49          </td><td>5416.96          </td><td>5760.81          </td><td>3794.56          </td><td>1149.21           </td><td>998.56           </td><td>2798.41           </td><td>5776.0           </td><td>6528.64          </td><td>166.41            </td><td>519.84           </td><td>1169.64           </td><td>1204.09          </td><td>1730.56           </td><td>930.25            </td><td>1764.0            </td><td>42.25             </td><td>116.64            </td><td>59.29             </td><td>77.44             </td><td>190.44            </td><td>1592.01           </td><td>10.24            </td><td>222.01           </td><td>243.36            </td><td>19.36            </td><td>590.49            </td><td>2.827313622        </td><td>4.373238129        </td><td>4.298645026        </td><td>4.329416684      </td><td>4.120661871        </td><td>3.523415014        </td><td>3.453157121        </td><td>3.968403339        </td><td>4.33073334         </td><td>4.391976966        </td><td>2.557227311        </td><td>3.126760536       </td><td>3.532225644        </td><td>3.546739687        </td><td>3.728100167        </td><td>3.417726684        </td><td>3.737669618        </td><td>1.871802177        </td><td>2.379546134        </td><td>2.041220329        </td><td>2.174751721       </td><td>2.624668592        </td><td>3.686376324       </td><td>1.16315081         </td><td>2.701361213        </td><td>2.747270914        </td><td>1.481604541        </td><td>3.19047635        </td><td>115579.91        </td></tr>\n",
       "<tr><td>4      </td><td>('Montgomery_Alabama',)</td><td>17.4              </td><td>78.9             </td><td>74.0             </td><td>75.9             </td><td>62.1              </td><td>31.6              </td><td>27.2             </td><td>57.1              </td><td>77.1              </td><td>81.7              </td><td>12.3              </td><td>22.0              </td><td>30.9              </td><td>38.9             </td><td>41.1              </td><td>29.8              </td><td>40.3             </td><td>6.0               </td><td>11.0              </td><td>6.7               </td><td>8.2               </td><td>13.1              </td><td>37.4              </td><td>3.0                </td><td>14.9              </td><td>15.4              </td><td>4.1               </td><td>21.2              </td><td>302.76            </td><td>6225.21          </td><td>5476.0           </td><td>5760.81          </td><td>3856.41          </td><td>998.56            </td><td>739.84           </td><td>3260.41           </td><td>5944.41          </td><td>6674.89          </td><td>151.29            </td><td>484.0            </td><td>954.81            </td><td>1513.21          </td><td>1689.21           </td><td>888.04            </td><td>1624.09           </td><td>36.0              </td><td>121.0             </td><td>44.89             </td><td>67.24             </td><td>171.61            </td><td>1398.76           </td><td>9.0              </td><td>222.01           </td><td>237.16            </td><td>16.81            </td><td>449.44            </td><td>2.856470206        </td><td>4.368181228        </td><td>4.304065093        </td><td>4.329416684      </td><td>4.128745989        </td><td>3.453157121        </td><td>3.303216973        </td><td>4.044804117        </td><td>4.345103281        </td><td>4.403054002        </td><td>2.509599262        </td><td>3.091042453       </td><td>3.430756184        </td><td>3.660994251        </td><td>3.716008122        </td><td>3.394508394        </td><td>3.696351469        </td><td>1.791759469        </td><td>2.397895273        </td><td>1.902107526        </td><td>2.104134154       </td><td>2.57261223         </td><td>3.621670704       </td><td>1.098612289        </td><td>2.701361213        </td><td>2.734367509        </td><td>1.410986974        </td><td>3.054001182       </td><td>121890.54        </td></tr>\n",
       "<tr><td>5      </td><td>('Tuscaloosa_Alabama',)</td><td>17.1              </td><td>73.6             </td><td>71.7             </td><td>65.5             </td><td>63.1              </td><td>35.5              </td><td>33.2             </td><td>57.2              </td><td>77.1              </td><td>77.2              </td><td>14.3              </td><td>21.9              </td><td>31.5              </td><td>32.3             </td><td>39.5              </td><td>23.2              </td><td>32.6             </td><td>4.6               </td><td>10.9              </td><td>5.4               </td><td>7.1               </td><td>10.3              </td><td>35.0              </td><td>2.5                </td><td>16.1              </td><td>13.2              </td><td>3.2               </td><td>20.9              </td><td>292.41            </td><td>5416.96          </td><td>5140.89          </td><td>4290.25          </td><td>3981.61          </td><td>1260.25           </td><td>1102.24          </td><td>3271.84           </td><td>5944.41          </td><td>5959.84          </td><td>204.49            </td><td>479.61           </td><td>992.25            </td><td>1043.29          </td><td>1560.25           </td><td>538.24            </td><td>1062.76           </td><td>21.16             </td><td>118.81            </td><td>29.16             </td><td>50.41             </td><td>106.09            </td><td>1225.0            </td><td>6.25             </td><td>259.21           </td><td>174.24            </td><td>10.24            </td><td>436.81            </td><td>2.839078464        </td><td>4.298645026        </td><td>4.272490748        </td><td>4.182050143      </td><td>4.14472077         </td><td>3.569532696        </td><td>3.502549876        </td><td>4.046553898        </td><td>4.345103281        </td><td>4.346399457        </td><td>2.660259537        </td><td>3.086486637       </td><td>3.449987546        </td><td>3.47506723         </td><td>3.676300672        </td><td>3.144152279        </td><td>3.484312288        </td><td>1.526056303        </td><td>2.388762789        </td><td>1.686398954        </td><td>1.960094784       </td><td>2.332143895        </td><td>3.555348061       </td><td>0.916290732        </td><td>2.778819272        </td><td>2.58021683         </td><td>1.16315081         </td><td>3.039749159       </td><td>53591.46         </td></tr>\n",
       "<tr><td>6      </td><td>('Anchorage_Alaska',)  </td><td>15.1              </td><td>63.7             </td><td>55.1             </td><td>68.8             </td><td>57.5              </td><td>32.4              </td><td>28.8             </td><td>65.8              </td><td>68.9              </td><td>78.3              </td><td>20.6              </td><td>17.9              </td><td>21.7              </td><td>30.2             </td><td>34.0              </td><td>18.5              </td><td>26.8             </td><td>5.3               </td><td>9.3               </td><td>4.2               </td><td>4.6               </td><td>7.2               </td><td>34.8              </td><td>2.0                </td><td>11.0              </td><td>9.9               </td><td>2.2               </td><td>12.6              </td><td>228.01            </td><td>4057.69          </td><td>3036.01          </td><td>4733.44          </td><td>3306.25          </td><td>1049.76           </td><td>829.44           </td><td>4329.64           </td><td>4747.21          </td><td>6130.89          </td><td>424.36            </td><td>320.41           </td><td>470.89            </td><td>912.04           </td><td>1156.0            </td><td>342.25            </td><td>718.24            </td><td>28.09             </td><td>86.49             </td><td>17.64             </td><td>21.16             </td><td>51.84             </td><td>1211.04           </td><td>4.0              </td><td>121.0            </td><td>98.01             </td><td>4.84             </td><td>158.76            </td><td>2.714694744        </td><td>4.154184563        </td><td>4.009149716        </td><td>4.231203745      </td><td>4.051784948        </td><td>3.478158423        </td><td>3.360375387        </td><td>4.186619838        </td><td>4.232656178        </td><td>4.360547603        </td><td>3.025291076        </td><td>2.884800713       </td><td>3.077312261        </td><td>3.407841924        </td><td>3.526360525        </td><td>2.917770732        </td><td>3.288401888        </td><td>1.667706821        </td><td>2.2300144          </td><td>1.435084525        </td><td>1.526056303       </td><td>1.974081026        </td><td>3.549617387       </td><td>0.693147181        </td><td>2.397895273        </td><td>2.292534757        </td><td>0.78845736         </td><td>2.533696814       </td><td>144808.86        </td></tr>\n",
       "<tr><td>7      </td><td>('Avondale_Arizona',)  </td><td>22.5              </td><td>65.9             </td><td>63.8             </td><td>68.7             </td><td>56.6              </td><td>28.3              </td><td>27.5             </td><td>56.4              </td><td>75.9              </td><td>79.7              </td><td>15.5              </td><td>17.3              </td><td>26.2              </td><td>29.8             </td><td>37.0              </td><td>16.7              </td><td>24.8             </td><td>4.3               </td><td>9.3               </td><td>4.1               </td><td>5.3               </td><td>9.2               </td><td>32.7              </td><td>2.5                </td><td>13.3              </td><td>12.3              </td><td>2.3               </td><td>15.3              </td><td>506.25            </td><td>4342.81          </td><td>4070.44          </td><td>4719.69          </td><td>3203.56          </td><td>800.89            </td><td>756.25           </td><td>3180.96           </td><td>5760.81          </td><td>6352.09          </td><td>240.25            </td><td>299.29           </td><td>686.44            </td><td>888.04           </td><td>1369.0            </td><td>278.89            </td><td>615.04            </td><td>18.49             </td><td>86.49             </td><td>16.81             </td><td>28.09             </td><td>84.64             </td><td>1069.29           </td><td>6.25             </td><td>176.89           </td><td>151.29            </td><td>5.29             </td><td>234.09            </td><td>3.113515309        </td><td>4.188138442        </td><td>4.15575319         </td><td>4.229749199      </td><td>4.036008985        </td><td>3.342861805        </td><td>3.314186005        </td><td>4.032469159        </td><td>4.329416684        </td><td>4.378269586        </td><td>2.740840024        </td><td>2.850706502       </td><td>3.265759411        </td><td>3.394508394        </td><td>3.610917913        </td><td>2.815408719        </td><td>3.210843653        </td><td>1.458615023        </td><td>2.2300144          </td><td>1.410986974        </td><td>1.667706821       </td><td>2.219203484        </td><td>3.487375078       </td><td>0.916290732        </td><td>2.587764035        </td><td>2.509599262        </td><td>0.832909123        </td><td>2.727852828       </td><td>27514.63         </td></tr>\n",
       "<tr><td>8      </td><td>('Chandler_Arizona',)  </td><td>12.3              </td><td>68.9             </td><td>66.2             </td><td>76.9             </td><td>64.8              </td><td>33.8              </td><td>34.8             </td><td>67.7              </td><td>78.6              </td><td>83.0              </td><td>16.2              </td><td>13.8              </td><td>20.2              </td><td>24.9             </td><td>33.7              </td><td>17.5              </td><td>24.0             </td><td>5.6               </td><td>8.5               </td><td>3.9               </td><td>4.6               </td><td>7.3               </td><td>32.5              </td><td>2.2                </td><td>10.5              </td><td>9.5               </td><td>2.0               </td><td>9.7               </td><td>151.29            </td><td>4747.21          </td><td>4382.44          </td><td>5913.61          </td><td>4199.04          </td><td>1142.44           </td><td>1211.04          </td><td>4583.29           </td><td>6177.96          </td><td>6889.0           </td><td>262.44            </td><td>190.44           </td><td>408.04            </td><td>620.01           </td><td>1135.69           </td><td>306.25            </td><td>576.0             </td><td>31.36             </td><td>72.25             </td><td>15.21             </td><td>21.16             </td><td>53.29             </td><td>1056.25           </td><td>4.84             </td><td>110.25           </td><td>90.25             </td><td>4.0              </td><td>94.09             </td><td>2.509599262        </td><td>4.232656178        </td><td>4.192680463        </td><td>4.342505877      </td><td>4.171305603        </td><td>3.520460802        </td><td>3.549617387        </td><td>4.21508618         </td><td>4.364371699        </td><td>4.418840608        </td><td>2.785011242        </td><td>2.624668592       </td><td>3.005682604        </td><td>3.214867803        </td><td>3.517497837        </td><td>2.862200881        </td><td>3.17805383         </td><td>1.722766598        </td><td>2.140066163        </td><td>1.360976553        </td><td>1.526056303       </td><td>1.987874348        </td><td>3.481240089       </td><td>0.78845736         </td><td>2.351375257        </td><td>2.251291799        </td><td>0.693147181        </td><td>2.272125886       </td><td>85217.83         </td></tr>\n",
       "<tr><td>9      </td><td>('Gilbert_Arizona',)   </td><td>9.9               </td><td>67.0             </td><td>65.6             </td><td>77.9             </td><td>66.5              </td><td>34.6              </td><td>36.7             </td><td>70.8              </td><td>79.6              </td><td>84.7              </td><td>17.7              </td><td>13.6              </td><td>18.5              </td><td>24.1             </td><td>33.2              </td><td>16.4              </td><td>22.1             </td><td>5.3               </td><td>8.5               </td><td>3.3               </td><td>4.2               </td><td>6.2               </td><td>30.9              </td><td>1.9                </td><td>10.2              </td><td>8.5               </td><td>1.7               </td><td>7.9               </td><td>98.01             </td><td>4489.0           </td><td>4303.36          </td><td>6068.41          </td><td>4422.25          </td><td>1197.16           </td><td>1346.89          </td><td>5012.64           </td><td>6336.16          </td><td>7174.09          </td><td>313.29            </td><td>184.96           </td><td>342.25            </td><td>580.81           </td><td>1102.24           </td><td>268.96            </td><td>488.41            </td><td>28.09             </td><td>72.25             </td><td>10.89             </td><td>17.64             </td><td>38.44             </td><td>954.81            </td><td>3.61             </td><td>104.04           </td><td>72.25             </td><td>2.89             </td><td>62.41             </td><td>2.292534757        </td><td>4.204692619        </td><td>4.183575696        </td><td>4.355425953      </td><td>4.197201948        </td><td>3.543853682        </td><td>3.602776755        </td><td>4.259859001        </td><td>4.377014093        </td><td>4.439115602        </td><td>2.87356464         </td><td>2.610069793       </td><td>2.917770732        </td><td>3.18221184         </td><td>3.502549876        </td><td>2.797281335        </td><td>3.095577609        </td><td>1.667706821        </td><td>2.140066163        </td><td>1.193922468        </td><td>1.435084525       </td><td>1.824549292        </td><td>3.430756184       </td><td>0.641853886        </td><td>2.32238772         </td><td>2.140066163        </td><td>0.530628251        </td><td>2.066862759       </td><td>75231.6          </td></tr>\n",
       "</tbody>\n",
       "</table>"
      ]
     },
     "metadata": {},
     "output_type": "display_data"
    }
   ],
   "source": [
    "train.summary()"
   ]
  },
  {
   "cell_type": "code",
   "execution_count": 8,
   "metadata": {},
   "outputs": [
    {
     "data": {
      "image/png": "[encoded data removed]",
      "text/plain": [
       "<matplotlib.figure.Figure at 0x1c26543a90>"
      ]
     },
     "metadata": {},
     "output_type": "display_data"
    },
    {
     "data": {
      "text/plain": [
       "<ggplot: (7555379965)>"
      ]
     },
     "execution_count": 8,
     "metadata": {},
     "output_type": "execute_result"
    }
   ],
   "source": [
    "ggplot(aes(x=\"y\"),data=train.as_data_frame())+geom_histogram()"
   ]
  },
  {
   "cell_type": "code",
   "execution_count": 9,
   "metadata": {},
   "outputs": [
    {
     "name": "stdout",
     "output_type": "stream",
     "text": [
      "Parse progress: |█████████████████████████████████████████████████████████| 100%\n"
     ]
    },
    {
     "data": {
      "text/plain": [
       "(468, 86)"
      ]
     },
     "execution_count": 9,
     "metadata": {},
     "output_type": "execute_result"
    }
   ],
   "source": [
    "train=train.as_data_frame()\n",
    "train.drop(train[(train[\"y\"]>200000)].index,inplace=True)\n",
    "train=h2o.H2OFrame(train)\n",
    "train.shape"
   ]
  },
  {
   "cell_type": "code",
   "execution_count": 10,
   "metadata": {
    "collapsed": true
   },
   "outputs": [],
   "source": [
    "train1, valid1= train.split_frame([0.7])"
   ]
  },
  {
   "cell_type": "code",
   "execution_count": 11,
   "metadata": {},
   "outputs": [
    {
     "data": {
      "text/plain": [
       "(128, 86)"
      ]
     },
     "execution_count": 11,
     "metadata": {},
     "output_type": "execute_result"
    }
   ],
   "source": [
    "valid1.shape"
   ]
  },
  {
   "cell_type": "code",
   "execution_count": 12,
   "metadata": {
    "collapsed": true
   },
   "outputs": [],
   "source": [
    "y = 'y'\n",
    "X = [name for name in train.columns if name not in [\"C1\",y]]"
   ]
  },
  {
   "cell_type": "code",
   "execution_count": 13,
   "metadata": {},
   "outputs": [
    {
     "data": {
      "text/plain": [
       "['ACCESS2',\n",
       " 'BPMED',\n",
       " 'CHECKUP',\n",
       " 'CHOLSCREEN',\n",
       " 'COLON_SCREEN',\n",
       " 'COREM',\n",
       " 'COREW',\n",
       " 'DENTAL',\n",
       " 'MAMMOUSE',\n",
       " 'PAPTEST',\n",
       " 'BINGE',\n",
       " 'CSMOKING',\n",
       " 'LPA',\n",
       " 'OBESITY',\n",
       " 'SLEEP',\n",
       " 'ARTHRITIS',\n",
       " 'BPHIGH',\n",
       " 'CANCER',\n",
       " 'CASTHMA',\n",
       " 'CHD',\n",
       " 'COPD',\n",
       " 'DIABETES',\n",
       " 'HIGHCHOL',\n",
       " 'KIDNEY',\n",
       " 'MHLTH',\n",
       " 'PHLTH',\n",
       " 'STROKE',\n",
       " 'TEETHLOST',\n",
       " 'C30',\n",
       " 'C31',\n",
       " 'C32',\n",
       " 'C33',\n",
       " 'C34',\n",
       " 'C35',\n",
       " 'C36',\n",
       " 'C37',\n",
       " 'C38',\n",
       " 'C39',\n",
       " 'C40',\n",
       " 'C41',\n",
       " 'C42',\n",
       " 'C43',\n",
       " 'C44',\n",
       " 'C45',\n",
       " 'C46',\n",
       " 'C47',\n",
       " 'C48',\n",
       " 'C49',\n",
       " 'C50',\n",
       " 'C51',\n",
       " 'C52',\n",
       " 'C53',\n",
       " 'C54',\n",
       " 'C55',\n",
       " 'C56',\n",
       " 'C57',\n",
       " 'C58',\n",
       " 'C59',\n",
       " 'C60',\n",
       " 'C61',\n",
       " 'C62',\n",
       " 'C63',\n",
       " 'C64',\n",
       " 'C65',\n",
       " 'C66',\n",
       " 'C67',\n",
       " 'C68',\n",
       " 'C69',\n",
       " 'C70',\n",
       " 'C71',\n",
       " 'C72',\n",
       " 'C73',\n",
       " 'C74',\n",
       " 'C75',\n",
       " 'C76',\n",
       " 'C77',\n",
       " 'C78',\n",
       " 'C79',\n",
       " 'C80',\n",
       " 'C81',\n",
       " 'C82',\n",
       " 'C83',\n",
       " 'C84',\n",
       " 'C85']"
      ]
     },
     "execution_count": 13,
     "metadata": {},
     "output_type": "execute_result"
    }
   ],
   "source": [
    "X\n",
    "#C30-C85 represents square value and log value of the previous 28 dimensions"
   ]
  },
  {
   "cell_type": "code",
   "execution_count": 14,
   "metadata": {},
   "outputs": [
    {
     "name": "stdout",
     "output_type": "stream",
     "text": [
      "glm Model Build progress: |███████████████████████████████████████████████| 100%\n",
      "Model Details\n",
      "=============\n",
      "H2OGeneralizedLinearEstimator :  Generalized Linear Modeling\n",
      "Model Key:  glm1\n",
      "\n",
      "\n",
      "ModelMetricsRegressionGLM: glm\n",
      "** Reported on train data. **\n",
      "\n",
      "MSE: 1302225677.5782416\n",
      "RMSE: 36086.364150164\n",
      "MAE: 26416.053727555252\n",
      "RMSLE: 0.6564442293598656\n",
      "R^2: -3.1086244689504383e-15\n",
      "Mean Residual Deviance: 1302225677.5782416\n",
      "Null degrees of freedom: 339\n",
      "Residual degrees of freedom: 339\n",
      "Null deviance: 442756730376.6022\n",
      "Residual deviance: 442756730376.6022\n",
      "AIC: 8104.574039622393\n",
      "\n",
      "ModelMetricsRegressionGLM: glm\n",
      "** Reported on validation data. **\n",
      "\n",
      "MSE: 1521224115.458098\n",
      "RMSE: 39002.87316926918\n",
      "MAE: 29085.64692152492\n",
      "RMSLE: 0.7210069197403535\n",
      "R^2: -0.010471484573317591\n",
      "Mean Residual Deviance: 1521224115.458098\n",
      "Null degrees of freedom: 127\n",
      "Residual degrees of freedom: 127\n",
      "Null deviance: 194716686778.63654\n",
      "Residual deviance: 194716686778.63654\n",
      "AIC: 3073.5242564121045\n",
      "Scoring History: \n"
     ]
    },
    {
     "data": {
      "text/html": [
       "<div style=\"overflow:auto\"><table style=\"width:50%\"><tr><td><b></b></td>\n",
       "<td><b>timestamp</b></td>\n",
       "<td><b>duration</b></td>\n",
       "<td><b>iteration</b></td>\n",
       "<td><b>lambda</b></td>\n",
       "<td><b>predictors</b></td>\n",
       "<td><b>deviance_train</b></td>\n",
       "<td><b>deviance_test</b></td></tr>\n",
       "<tr><td></td>\n",
       "<td>2018-11-19 07:25:41</td>\n",
       "<td> 0.000 sec</td>\n",
       "<td>1</td>\n",
       "<td>.16E5</td>\n",
       "<td>1</td>\n",
       "<td>1302225678.9530592</td>\n",
       "<td>1521224135.8186917</td></tr>\n",
       "<tr><td></td>\n",
       "<td>2018-11-19 07:25:41</td>\n",
       "<td> 0.003 sec</td>\n",
       "<td>2</td>\n",
       "<td>.15E5</td>\n",
       "<td>4</td>\n",
       "<td>1302223650.7014174</td>\n",
       "<td>1521224803.6939240</td></tr>\n",
       "<tr><td></td>\n",
       "<td>2018-11-19 07:25:41</td>\n",
       "<td> 0.005 sec</td>\n",
       "<td>3</td>\n",
       "<td>.14E5</td>\n",
       "<td>4</td>\n",
       "<td>1302221338.7356417</td>\n",
       "<td>1521225558.3370240</td></tr>\n",
       "<tr><td></td>\n",
       "<td>2018-11-19 07:25:41</td>\n",
       "<td> 0.007 sec</td>\n",
       "<td>4</td>\n",
       "<td>.14E5</td>\n",
       "<td>4</td>\n",
       "<td>1302218915.4382422</td>\n",
       "<td>1521226349.3805094</td></tr>\n",
       "<tr><td></td>\n",
       "<td>2018-11-19 07:25:41</td>\n",
       "<td> 0.008 sec</td>\n",
       "<td>5</td>\n",
       "<td>.13E5</td>\n",
       "<td>4</td>\n",
       "<td>1302216372.3000398</td>\n",
       "<td>1521227179.6079743</td></tr></table></div>"
      ],
      "text/plain": [
       "    timestamp            duration    iteration    lambda    predictors    deviance_train    deviance_test\n",
       "--  -------------------  ----------  -----------  --------  ------------  ----------------  ---------------\n",
       "    2018-11-19 07:25:41  0.000 sec   1            16000     1             1.30223e+09       1.52122e+09\n",
       "    2018-11-19 07:25:41  0.003 sec   2            15000     4             1.30222e+09       1.52122e+09\n",
       "    2018-11-19 07:25:41  0.005 sec   3            14000     4             1.30222e+09       1.52123e+09\n",
       "    2018-11-19 07:25:41  0.007 sec   4            14000     4             1.30222e+09       1.52123e+09\n",
       "    2018-11-19 07:25:41  0.008 sec   5            13000     4             1.30222e+09       1.52123e+09"
      ]
     },
     "metadata": {},
     "output_type": "display_data"
    },
    {
     "data": {
      "text/plain": []
     },
     "execution_count": 14,
     "metadata": {},
     "output_type": "execute_result"
    }
   ],
   "source": [
    "import h2o\n",
    "from h2o.estimators.glm import H2OGeneralizedLinearEstimator\n",
    "\n",
    "glm = H2OGeneralizedLinearEstimator(family='gaussian',\n",
    "                                         model_id='glm1',\n",
    "                                         solver='IRLSM',\n",
    "                                         standardize=True,\n",
    "                                         lambda_search=True)\n",
    "\n",
    "glm.train(X, y, training_frame=train1,\n",
    "         validation_frame=valid1)\n",
    "\n",
    "\n",
    "glm"
   ]
  },
  {
   "cell_type": "code",
   "execution_count": 15,
   "metadata": {},
   "outputs": [
    {
     "name": "stdout",
     "output_type": "stream",
     "text": [
      "deeplearning Model Build progress: |██████████████████████████████████████| 100%\n",
      "Model Details\n",
      "=============\n",
      "H2ODeepLearningEstimator :  Deep Learning\n",
      "Model Key:  nn_model\n",
      "\n",
      "\n",
      "ModelMetricsRegression: deeplearning\n",
      "** Reported on train data. **\n",
      "\n",
      "MSE: 877905253.7352356\n",
      "RMSE: 29629.465971144935\n",
      "MAE: 21430.38811976159\n",
      "RMSLE: 0.5438638756120948\n",
      "Mean Residual Deviance: 877905253.7352356\n",
      "\n",
      "ModelMetricsRegression: deeplearning\n",
      "** Reported on validation data. **\n",
      "\n",
      "MSE: 1452211567.459503\n",
      "RMSE: 38107.893768345464\n",
      "MAE: 28715.899418159082\n",
      "RMSLE: 0.6962096414640148\n",
      "Mean Residual Deviance: 1452211567.459503\n",
      "Scoring History: \n"
     ]
    },
    {
     "data": {
      "text/html": [
       "<div style=\"overflow:auto\"><table style=\"width:50%\"><tr><td><b></b></td>\n",
       "<td><b>timestamp</b></td>\n",
       "<td><b>duration</b></td>\n",
       "<td><b>training_speed</b></td>\n",
       "<td><b>epochs</b></td>\n",
       "<td><b>iterations</b></td>\n",
       "<td><b>samples</b></td>\n",
       "<td><b>training_rmse</b></td>\n",
       "<td><b>training_deviance</b></td>\n",
       "<td><b>training_mae</b></td>\n",
       "<td><b>validation_rmse</b></td>\n",
       "<td><b>validation_deviance</b></td>\n",
       "<td><b>validation_mae</b></td></tr>\n",
       "<tr><td></td>\n",
       "<td>2018-11-19 07:25:51</td>\n",
       "<td> 0.000 sec</td>\n",
       "<td>None</td>\n",
       "<td>0.0</td>\n",
       "<td>0</td>\n",
       "<td>0.0</td>\n",
       "<td>nan</td>\n",
       "<td>nan</td>\n",
       "<td>nan</td>\n",
       "<td>nan</td>\n",
       "<td>nan</td>\n",
       "<td>nan</td></tr>\n",
       "<tr><td></td>\n",
       "<td>2018-11-19 07:25:51</td>\n",
       "<td> 0.114 sec</td>\n",
       "<td>21518 obs/sec</td>\n",
       "<td>5.0</td>\n",
       "<td>1</td>\n",
       "<td>1700.0</td>\n",
       "<td>35916.3308575</td>\n",
       "<td>1289982822.2651138</td>\n",
       "<td>27487.0239096</td>\n",
       "<td>47338.4617702</td>\n",
       "<td>2240929962.7681222</td>\n",
       "<td>35923.5703689</td></tr>\n",
       "<tr><td></td>\n",
       "<td>2018-11-19 07:25:51</td>\n",
       "<td> 0.183 sec</td>\n",
       "<td>23943 obs/sec</td>\n",
       "<td>10.0</td>\n",
       "<td>2</td>\n",
       "<td>3400.0</td>\n",
       "<td>38945.5745643</td>\n",
       "<td>1516757778.1456957</td>\n",
       "<td>29644.1834811</td>\n",
       "<td>41788.1888046</td>\n",
       "<td>1746252723.5729489</td>\n",
       "<td>32874.4376175</td></tr>\n",
       "<tr><td></td>\n",
       "<td>2018-11-19 07:25:51</td>\n",
       "<td> 0.250 sec</td>\n",
       "<td>25000 obs/sec</td>\n",
       "<td>15.0</td>\n",
       "<td>3</td>\n",
       "<td>5100.0</td>\n",
       "<td>32294.9166353</td>\n",
       "<td>1042961640.4837934</td>\n",
       "<td>23345.1239879</td>\n",
       "<td>38951.2319740</td>\n",
       "<td>1517198472.2934506</td>\n",
       "<td>28688.1269678</td></tr>\n",
       "<tr><td></td>\n",
       "<td>2018-11-19 07:25:51</td>\n",
       "<td> 0.326 sec</td>\n",
       "<td>24908 obs/sec</td>\n",
       "<td>20.0</td>\n",
       "<td>4</td>\n",
       "<td>6800.0</td>\n",
       "<td>31188.0232237</td>\n",
       "<td>972692792.6006541</td>\n",
       "<td>23034.3014875</td>\n",
       "<td>41269.9633632</td>\n",
       "<td>1703209876.0029547</td>\n",
       "<td>30892.1363152</td></tr>\n",
       "<tr><td></td>\n",
       "<td>2018-11-19 07:25:51</td>\n",
       "<td> 0.395 sec</td>\n",
       "<td>25222 obs/sec</td>\n",
       "<td>25.0</td>\n",
       "<td>5</td>\n",
       "<td>8500.0</td>\n",
       "<td>29541.8865159</td>\n",
       "<td>872723058.9182696</td>\n",
       "<td>21485.4018859</td>\n",
       "<td>39099.3241527</td>\n",
       "<td>1528757149.1960607</td>\n",
       "<td>29055.3704555</td></tr>\n",
       "<tr><td></td>\n",
       "<td>2018-11-19 07:25:51</td>\n",
       "<td> 0.461 sec</td>\n",
       "<td>25563 obs/sec</td>\n",
       "<td>30.0</td>\n",
       "<td>6</td>\n",
       "<td>10200.0</td>\n",
       "<td>29629.4659711</td>\n",
       "<td>877905253.7352356</td>\n",
       "<td>21430.3881198</td>\n",
       "<td>38107.8937683</td>\n",
       "<td>1452211567.4595029</td>\n",
       "<td>28715.8994182</td></tr>\n",
       "<tr><td></td>\n",
       "<td>2018-11-19 07:25:51</td>\n",
       "<td> 0.527 sec</td>\n",
       "<td>25925 obs/sec</td>\n",
       "<td>35.0</td>\n",
       "<td>7</td>\n",
       "<td>11900.0</td>\n",
       "<td>29727.2899430</td>\n",
       "<td>883711767.3551161</td>\n",
       "<td>21849.4144442</td>\n",
       "<td>38830.1972412</td>\n",
       "<td>1507784217.7908630</td>\n",
       "<td>29893.0469776</td></tr>\n",
       "<tr><td></td>\n",
       "<td>2018-11-19 07:25:51</td>\n",
       "<td> 0.585 sec</td>\n",
       "<td>26510 obs/sec</td>\n",
       "<td>40.0</td>\n",
       "<td>8</td>\n",
       "<td>13600.0</td>\n",
       "<td>30845.5253305</td>\n",
       "<td>951446432.9119124</td>\n",
       "<td>22225.2317569</td>\n",
       "<td>38826.5203998</td>\n",
       "<td>1507498686.3531458</td>\n",
       "<td>29788.7018174</td></tr>\n",
       "<tr><td></td>\n",
       "<td>2018-11-19 07:25:51</td>\n",
       "<td> 0.648 sec</td>\n",
       "<td>26795 obs/sec</td>\n",
       "<td>45.0</td>\n",
       "<td>9</td>\n",
       "<td>15300.0</td>\n",
       "<td>29806.5442973</td>\n",
       "<td>888430082.9460760</td>\n",
       "<td>20958.9260379</td>\n",
       "<td>39339.8272422</td>\n",
       "<td>1547622007.4437101</td>\n",
       "<td>29458.7394224</td></tr>\n",
       "<tr><td></td>\n",
       "<td>2018-11-19 07:25:52</td>\n",
       "<td> 0.709 sec</td>\n",
       "<td>27113 obs/sec</td>\n",
       "<td>50.0</td>\n",
       "<td>10</td>\n",
       "<td>17000.0</td>\n",
       "<td>28517.0119155</td>\n",
       "<td>813219968.5891792</td>\n",
       "<td>20505.0047522</td>\n",
       "<td>38167.9449233</td>\n",
       "<td>1456792019.6686628</td>\n",
       "<td>29114.3721552</td></tr>\n",
       "<tr><td></td>\n",
       "<td>2018-11-19 07:25:52</td>\n",
       "<td> 0.717 sec</td>\n",
       "<td>26984 obs/sec</td>\n",
       "<td>50.0</td>\n",
       "<td>10</td>\n",
       "<td>17000.0</td>\n",
       "<td>29629.4659711</td>\n",
       "<td>877905253.7352356</td>\n",
       "<td>21430.3881198</td>\n",
       "<td>38107.8937683</td>\n",
       "<td>1452211567.4595029</td>\n",
       "<td>28715.8994182</td></tr></table></div>"
      ],
      "text/plain": [
       "    timestamp            duration    training_speed    epochs    iterations    samples    training_rmse    training_deviance    training_mae    validation_rmse    validation_deviance    validation_mae\n",
       "--  -------------------  ----------  ----------------  --------  ------------  ---------  ---------------  -------------------  --------------  -----------------  ---------------------  ----------------\n",
       "    2018-11-19 07:25:51  0.000 sec                     0         0             0          nan              nan                  nan             nan                nan                    nan\n",
       "    2018-11-19 07:25:51  0.114 sec   21518 obs/sec     5         1             1700       35916.3          1.28998e+09          27487           47338.5            2.24093e+09            35923.6\n",
       "    2018-11-19 07:25:51  0.183 sec   23943 obs/sec     10        2             3400       38945.6          1.51676e+09          29644.2         41788.2            1.74625e+09            32874.4\n",
       "    2018-11-19 07:25:51  0.250 sec   25000 obs/sec     15        3             5100       32294.9          1.04296e+09          23345.1         38951.2            1.5172e+09             28688.1\n",
       "    2018-11-19 07:25:51  0.326 sec   24908 obs/sec     20        4             6800       31188            9.72693e+08          23034.3         41270              1.70321e+09            30892.1\n",
       "    2018-11-19 07:25:51  0.395 sec   25222 obs/sec     25        5             8500       29541.9          8.72723e+08          21485.4         39099.3            1.52876e+09            29055.4\n",
       "    2018-11-19 07:25:51  0.461 sec   25563 obs/sec     30        6             10200      29629.5          8.77905e+08          21430.4         38107.9            1.45221e+09            28715.9\n",
       "    2018-11-19 07:25:51  0.527 sec   25925 obs/sec     35        7             11900      29727.3          8.83712e+08          21849.4         38830.2            1.50778e+09            29893\n",
       "    2018-11-19 07:25:51  0.585 sec   26510 obs/sec     40        8             13600      30845.5          9.51446e+08          22225.2         38826.5            1.5075e+09             29788.7\n",
       "    2018-11-19 07:25:51  0.648 sec   26795 obs/sec     45        9             15300      29806.5          8.8843e+08           20958.9         39339.8            1.54762e+09            29458.7\n",
       "    2018-11-19 07:25:52  0.709 sec   27113 obs/sec     50        10            17000      28517            8.1322e+08           20505           38167.9            1.45679e+09            29114.4\n",
       "    2018-11-19 07:25:52  0.717 sec   26984 obs/sec     50        10            17000      29629.5          8.77905e+08          21430.4         38107.9            1.45221e+09            28715.9"
      ]
     },
     "metadata": {},
     "output_type": "display_data"
    },
    {
     "name": "stdout",
     "output_type": "stream",
     "text": [
      "Variable Importances: \n"
     ]
    },
    {
     "data": {
      "text/html": [
       "<div style=\"overflow:auto\"><table style=\"width:50%\"><tr><td><b>variable</b></td>\n",
       "<td><b>relative_importance</b></td>\n",
       "<td><b>scaled_importance</b></td>\n",
       "<td><b>percentage</b></td></tr>\n",
       "<tr><td>C38</td>\n",
       "<td>1.0</td>\n",
       "<td>1.0</td>\n",
       "<td>0.0156059</td></tr>\n",
       "<tr><td>C35</td>\n",
       "<td>0.9552940</td>\n",
       "<td>0.9552940</td>\n",
       "<td>0.0149082</td></tr>\n",
       "<tr><td>ACCESS2</td>\n",
       "<td>0.9396808</td>\n",
       "<td>0.9396808</td>\n",
       "<td>0.0146645</td></tr>\n",
       "<tr><td>HIGHCHOL</td>\n",
       "<td>0.9078077</td>\n",
       "<td>0.9078077</td>\n",
       "<td>0.0141671</td></tr>\n",
       "<tr><td>C53</td>\n",
       "<td>0.8911116</td>\n",
       "<td>0.8911116</td>\n",
       "<td>0.0139066</td></tr>\n",
       "<tr><td>---</td>\n",
       "<td>---</td>\n",
       "<td>---</td>\n",
       "<td>---</td></tr>\n",
       "<tr><td>C42</td>\n",
       "<td>0.5853235</td>\n",
       "<td>0.5853235</td>\n",
       "<td>0.0091345</td></tr>\n",
       "<tr><td>C37</td>\n",
       "<td>0.5802910</td>\n",
       "<td>0.5802910</td>\n",
       "<td>0.0090559</td></tr>\n",
       "<tr><td>C77</td>\n",
       "<td>0.5669560</td>\n",
       "<td>0.5669560</td>\n",
       "<td>0.0088478</td></tr>\n",
       "<tr><td>C70</td>\n",
       "<td>0.5668864</td>\n",
       "<td>0.5668864</td>\n",
       "<td>0.0088467</td></tr>\n",
       "<tr><td>C65</td>\n",
       "<td>0.5613628</td>\n",
       "<td>0.5613628</td>\n",
       "<td>0.0087605</td></tr></table></div>"
      ],
      "text/plain": [
       "variable    relative_importance    scaled_importance    percentage\n",
       "----------  ---------------------  -------------------  --------------------\n",
       "C38         1.0                    1.0                  0.015605852247427082\n",
       "C35         0.9552939534187317     0.9552939534187317   0.014908176289913215\n",
       "ACCESS2     0.939680814743042      0.939680814743042    0.014664519954621813\n",
       "HIGHCHOL    0.9078077077865601     0.9078077077865601   0.014167112956792516\n",
       "C53         0.8911115527153015     0.8911115527153015   0.013906555227650325\n",
       "---         ---                    ---                  ---\n",
       "C42         0.5853235125541687     0.5853235125541687   0.009134472253865388\n",
       "C37         0.5802910327911377     0.5802910327911377   0.009055936118245358\n",
       "C77         0.5669559836387634     0.5669559836387634   0.008847831311461229\n",
       "C70         0.5668864250183105     0.5668864250183105   0.008846745789907906\n",
       "C65         0.5613628029823303     0.5613628029823303   0.008760544960543766"
      ]
     },
     "metadata": {},
     "output_type": "display_data"
    },
    {
     "name": "stdout",
     "output_type": "stream",
     "text": [
      "\n",
      "See the whole table with table.as_data_frame()\n"
     ]
    },
    {
     "data": {
      "text/plain": []
     },
     "execution_count": 15,
     "metadata": {},
     "output_type": "execute_result"
    }
   ],
   "source": [
    "from h2o.estimators.deeplearning import H2ODeepLearningEstimator\n",
    "nn_model2 = H2ODeepLearningEstimator(\n",
    "    epochs=50,                    \n",
    "    hidden=[100],                 \n",
    "    input_dropout_ratio=0.2,      \n",
    "    hidden_dropout_ratios=[0.05], \n",
    "    activation='TanhWithDropout', \n",
    "    l1=0.001,                     \n",
    "    l2=0.01,                      \n",
    "    adaptive_rate=True,           \n",
    "    stopping_rounds=5,            \n",
    "    score_each_iteration=True,    \n",
    "    model_id='nn_model')          \n",
    "\n",
    "\n",
    "nn_model2.train(\n",
    "    x=X,\n",
    "    y=y,\n",
    "    training_frame=train1,\n",
    "    validation_frame=valid1)\n",
    "\n",
    "\n",
    "nn_model2"
   ]
  },
  {
   "cell_type": "code",
   "execution_count": 16,
   "metadata": {},
   "outputs": [
    {
     "name": "stdout",
     "output_type": "stream",
     "text": [
      "drf Model Build progress: |███████████████████████████████████████████████| 100%\n",
      "Model Details\n",
      "=============\n",
      "H2ORandomForestEstimator :  Distributed Random Forest\n",
      "Model Key:  DRF_model_python_1542399605457_3\n",
      "\n",
      "\n",
      "ModelMetricsRegression: drf\n",
      "** Reported on train data. **\n",
      "\n",
      "MSE: 1248244018.5867574\n",
      "RMSE: 35330.4970045251\n",
      "MAE: 26281.606059070582\n",
      "RMSLE: 0.6462016579211768\n",
      "Mean Residual Deviance: 1248244018.5867574\n",
      "\n",
      "ModelMetricsRegression: drf\n",
      "** Reported on validation data. **\n",
      "\n",
      "MSE: 1415170068.6402383\n",
      "RMSE: 37618.74623961089\n",
      "MAE: 28767.793136459222\n",
      "RMSLE: 0.7186850394033366\n",
      "Mean Residual Deviance: 1415170068.6402383\n",
      "\n",
      "ModelMetricsRegression: drf\n",
      "** Reported on cross-validation data. **\n",
      "\n",
      "MSE: 1264978981.1860466\n",
      "RMSE: 35566.54300302528\n",
      "MAE: 26506.34643547274\n",
      "RMSLE: 0.6381454402673237\n",
      "Mean Residual Deviance: 1264978981.1860466\n",
      "Cross-Validation Metrics Summary: \n"
     ]
    },
    {
     "data": {
      "text/html": [
       "<div style=\"overflow:auto\"><table style=\"width:50%\"><tr><td><b></b></td>\n",
       "<td><b>mean</b></td>\n",
       "<td><b>sd</b></td>\n",
       "<td><b>cv_1_valid</b></td>\n",
       "<td><b>cv_2_valid</b></td>\n",
       "<td><b>cv_3_valid</b></td></tr>\n",
       "<tr><td>mae</td>\n",
       "<td>26598.615</td>\n",
       "<td>1286.3875</td>\n",
       "<td>28242.354</td>\n",
       "<td>24062.695</td>\n",
       "<td>27490.799</td></tr>\n",
       "<tr><td>mean_residual_deviance</td>\n",
       "<td>1272342270.0000000</td>\n",
       "<td>230773664.0000000</td>\n",
       "<td>1373732100.0000000</td>\n",
       "<td>831699260.0000000</td>\n",
       "<td>1611595520.0000000</td></tr>\n",
       "<tr><td>mse</td>\n",
       "<td>1272342270.0000000</td>\n",
       "<td>230773664.0000000</td>\n",
       "<td>1373732100.0000000</td>\n",
       "<td>831699260.0000000</td>\n",
       "<td>1611595520.0000000</td></tr>\n",
       "<tr><td>r2</td>\n",
       "<td>0.0160831</td>\n",
       "<td>0.0208171</td>\n",
       "<td>0.0537118</td>\n",
       "<td>0.0126999</td>\n",
       "<td>-0.0181624</td></tr>\n",
       "<tr><td>residual_deviance</td>\n",
       "<td>1272342270.0000000</td>\n",
       "<td>230773664.0000000</td>\n",
       "<td>1373732100.0000000</td>\n",
       "<td>831699260.0000000</td>\n",
       "<td>1611595520.0000000</td></tr>\n",
       "<tr><td>rmse</td>\n",
       "<td>35349.258</td>\n",
       "<td>3374.3384</td>\n",
       "<td>37063.89</td>\n",
       "<td>28839.197</td>\n",
       "<td>40144.684</td></tr>\n",
       "<tr><td>rmsle</td>\n",
       "<td>0.6392193</td>\n",
       "<td>0.0244284</td>\n",
       "<td>0.6813351</td>\n",
       "<td>0.6396074</td>\n",
       "<td>0.5967154</td></tr></table></div>"
      ],
      "text/plain": [
       "                        mean         sd           cv_1_valid    cv_2_valid    cv_3_valid\n",
       "----------------------  -----------  -----------  ------------  ------------  ------------\n",
       "mae                     26598.6      1286.39      28242.4       24062.7       27490.8\n",
       "mean_residual_deviance  1.27234e+09  2.30774e+08  1.37373e+09   8.31699e+08   1.6116e+09\n",
       "mse                     1.27234e+09  2.30774e+08  1.37373e+09   8.31699e+08   1.6116e+09\n",
       "r2                      0.0160831    0.0208171    0.0537118     0.0126999     -0.0181624\n",
       "residual_deviance       1.27234e+09  2.30774e+08  1.37373e+09   8.31699e+08   1.6116e+09\n",
       "rmse                    35349.3      3374.34      37063.9       28839.2       40144.7\n",
       "rmsle                   0.639219     0.0244284    0.681335      0.639607      0.596715"
      ]
     },
     "metadata": {},
     "output_type": "display_data"
    },
    {
     "name": "stdout",
     "output_type": "stream",
     "text": [
      "Scoring History: \n"
     ]
    },
    {
     "data": {
      "text/html": [
       "<div style=\"overflow:auto\"><table style=\"width:50%\"><tr><td><b></b></td>\n",
       "<td><b>timestamp</b></td>\n",
       "<td><b>duration</b></td>\n",
       "<td><b>number_of_trees</b></td>\n",
       "<td><b>training_rmse</b></td>\n",
       "<td><b>training_mae</b></td>\n",
       "<td><b>training_deviance</b></td>\n",
       "<td><b>validation_rmse</b></td>\n",
       "<td><b>validation_mae</b></td>\n",
       "<td><b>validation_deviance</b></td></tr>\n",
       "<tr><td></td>\n",
       "<td>2018-11-19 07:26:02</td>\n",
       "<td> 3.729 sec</td>\n",
       "<td>0.0</td>\n",
       "<td>nan</td>\n",
       "<td>nan</td>\n",
       "<td>nan</td>\n",
       "<td>nan</td>\n",
       "<td>nan</td>\n",
       "<td>nan</td></tr>\n",
       "<tr><td></td>\n",
       "<td>2018-11-19 07:26:02</td>\n",
       "<td> 3.735 sec</td>\n",
       "<td>1.0</td>\n",
       "<td>50222.2599791</td>\n",
       "<td>36861.8514983</td>\n",
       "<td>2522275397.4111948</td>\n",
       "<td>45953.3739201</td>\n",
       "<td>36543.1187859</td>\n",
       "<td>2111712574.6381440</td></tr>\n",
       "<tr><td></td>\n",
       "<td>2018-11-19 07:26:02</td>\n",
       "<td> 3.741 sec</td>\n",
       "<td>2.0</td>\n",
       "<td>52858.9601994</td>\n",
       "<td>38559.7419938</td>\n",
       "<td>2794069673.3654442</td>\n",
       "<td>43344.5375909</td>\n",
       "<td>33880.3981476</td>\n",
       "<td>1878748938.9652350</td></tr>\n",
       "<tr><td></td>\n",
       "<td>2018-11-19 07:26:02</td>\n",
       "<td> 3.745 sec</td>\n",
       "<td>3.0</td>\n",
       "<td>51166.1189601</td>\n",
       "<td>37148.0282606</td>\n",
       "<td>2617971729.4370499</td>\n",
       "<td>43324.5475338</td>\n",
       "<td>33154.9800479</td>\n",
       "<td>1877016419.0048690</td></tr>\n",
       "<tr><td></td>\n",
       "<td>2018-11-19 07:26:02</td>\n",
       "<td> 3.750 sec</td>\n",
       "<td>4.0</td>\n",
       "<td>51044.4379384</td>\n",
       "<td>37325.0704753</td>\n",
       "<td>2605534644.4431915</td>\n",
       "<td>41223.0198414</td>\n",
       "<td>32152.6423836</td>\n",
       "<td>1699337364.8409183</td></tr>\n",
       "<tr><td>---</td>\n",
       "<td>---</td>\n",
       "<td>---</td>\n",
       "<td>---</td>\n",
       "<td>---</td>\n",
       "<td>---</td>\n",
       "<td>---</td>\n",
       "<td>---</td>\n",
       "<td>---</td>\n",
       "<td>---</td></tr>\n",
       "<tr><td></td>\n",
       "<td>2018-11-19 07:26:04</td>\n",
       "<td> 5.983 sec</td>\n",
       "<td>218.0</td>\n",
       "<td>35279.4365066</td>\n",
       "<td>26226.0776006</td>\n",
       "<td>1244638640.2244637</td>\n",
       "<td>37592.6407313</td>\n",
       "<td>28745.3145833</td>\n",
       "<td>1413206637.1508069</td></tr>\n",
       "<tr><td></td>\n",
       "<td>2018-11-19 07:26:04</td>\n",
       "<td> 5.998 sec</td>\n",
       "<td>219.0</td>\n",
       "<td>35299.1846411</td>\n",
       "<td>26241.9987611</td>\n",
       "<td>1246032436.3261867</td>\n",
       "<td>37587.7315447</td>\n",
       "<td>28739.7692115</td>\n",
       "<td>1412837562.6765790</td></tr>\n",
       "<tr><td></td>\n",
       "<td>2018-11-19 07:26:04</td>\n",
       "<td> 6.014 sec</td>\n",
       "<td>220.0</td>\n",
       "<td>35309.6225384</td>\n",
       "<td>26242.9223337</td>\n",
       "<td>1246769443.8076336</td>\n",
       "<td>37600.5129423</td>\n",
       "<td>28747.3140400</td>\n",
       "<td>1413798573.5235517</td></tr>\n",
       "<tr><td></td>\n",
       "<td>2018-11-19 07:26:04</td>\n",
       "<td> 6.030 sec</td>\n",
       "<td>221.0</td>\n",
       "<td>35324.6589055</td>\n",
       "<td>26256.1595200</td>\n",
       "<td>1247831526.7920394</td>\n",
       "<td>37606.4772548</td>\n",
       "<td>28740.3068571</td>\n",
       "<td>1414247131.5138242</td></tr>\n",
       "<tr><td></td>\n",
       "<td>2018-11-19 07:26:04</td>\n",
       "<td> 6.044 sec</td>\n",
       "<td>222.0</td>\n",
       "<td>35330.4970045</td>\n",
       "<td>26281.6060591</td>\n",
       "<td>1248244018.5867574</td>\n",
       "<td>37618.7462396</td>\n",
       "<td>28767.7931365</td>\n",
       "<td>1415170068.6402383</td></tr></table></div>"
      ],
      "text/plain": [
       "     timestamp            duration    number_of_trees    training_rmse       training_mae        training_deviance    validation_rmse     validation_mae      validation_deviance\n",
       "---  -------------------  ----------  -----------------  ------------------  ------------------  -------------------  ------------------  ------------------  ---------------------\n",
       "     2018-11-19 07:26:02  3.729 sec   0.0                nan                 nan                 nan                  nan                 nan                 nan\n",
       "     2018-11-19 07:26:02  3.735 sec   1.0                50222.25997912873   36861.851498252465  2522275397.411195    45953.373920074075  36543.118785858154  2111712574.638144\n",
       "     2018-11-19 07:26:02  3.741 sec   2.0                52858.960199434914  38559.741993801654  2794069673.365444    43344.537590857224  33880.39814758301   1878748938.965235\n",
       "     2018-11-19 07:26:02  3.745 sec   3.0                51166.11896007992   37148.02826060158   2617971729.43705     43324.547533758145  33154.98004786174   1877016419.004869\n",
       "     2018-11-19 07:26:02  3.750 sec   4.0                51044.437938361036  37325.070475260414  2605534644.4431915   41223.01984135707   32152.64238357544   1699337364.8409183\n",
       "---  ---                  ---         ---                ---                 ---                 ---                  ---                 ---                 ---\n",
       "     2018-11-19 07:26:04  5.983 sec   218.0              35279.43650661762   26226.077600551238  1244638640.2244637   37592.64073127621   28745.314583349646  1413206637.150807\n",
       "     2018-11-19 07:26:04  5.998 sec   219.0              35299.184641095984  26241.99876109761   1246032436.3261867   37587.73154470191   28739.769211494753  1412837562.676579\n",
       "     2018-11-19 07:26:04  6.014 sec   220.0              35309.62253844742   26242.92233366722   1246769443.8076336   37600.51294229311   28747.314039993274  1413798573.5235517\n",
       "     2018-11-19 07:26:04  6.030 sec   221.0              35324.65890552999   26256.159520041467  1247831526.7920394   37606.47725477387   28740.30685706161   1414247131.5138242\n",
       "     2018-11-19 07:26:04  6.044 sec   222.0              35330.4970045251    26281.606059070582  1248244018.5867574   37618.74623961089   28767.793136459222  1415170068.6402383"
      ]
     },
     "metadata": {},
     "output_type": "display_data"
    },
    {
     "name": "stdout",
     "output_type": "stream",
     "text": [
      "\n",
      "See the whole table with table.as_data_frame()\n",
      "Variable Importances: \n"
     ]
    },
    {
     "data": {
      "text/html": [
       "<div style=\"overflow:auto\"><table style=\"width:50%\"><tr><td><b>variable</b></td>\n",
       "<td><b>relative_importance</b></td>\n",
       "<td><b>scaled_importance</b></td>\n",
       "<td><b>percentage</b></td></tr>\n",
       "<tr><td>CHOLSCREEN</td>\n",
       "<td>2063380119552.0000000</td>\n",
       "<td>1.0</td>\n",
       "<td>0.0293035</td></tr>\n",
       "<tr><td>C33</td>\n",
       "<td>1794407137280.0000000</td>\n",
       "<td>0.8696445</td>\n",
       "<td>0.0254836</td></tr>\n",
       "<tr><td>C58</td>\n",
       "<td>1561402015744.0000000</td>\n",
       "<td>0.7567205</td>\n",
       "<td>0.0221746</td></tr>\n",
       "<tr><td>C62</td>\n",
       "<td>1462806511616.0000000</td>\n",
       "<td>0.7089370</td>\n",
       "<td>0.0207744</td></tr>\n",
       "<tr><td>PAPTEST</td>\n",
       "<td>1377554268160.0000000</td>\n",
       "<td>0.6676202</td>\n",
       "<td>0.0195636</td></tr>\n",
       "<tr><td>---</td>\n",
       "<td>---</td>\n",
       "<td>---</td>\n",
       "<td>---</td></tr>\n",
       "<tr><td>C53</td>\n",
       "<td>496028155904.0000000</td>\n",
       "<td>0.2403959</td>\n",
       "<td>0.0070444</td></tr>\n",
       "<tr><td>C67</td>\n",
       "<td>480312524800.0000000</td>\n",
       "<td>0.2327795</td>\n",
       "<td>0.0068213</td></tr>\n",
       "<tr><td>C45</td>\n",
       "<td>463396831232.0000000</td>\n",
       "<td>0.2245814</td>\n",
       "<td>0.0065810</td></tr>\n",
       "<tr><td>OBESITY</td>\n",
       "<td>455068942336.0000000</td>\n",
       "<td>0.2205454</td>\n",
       "<td>0.0064628</td></tr>\n",
       "<tr><td>C49</td>\n",
       "<td>406238920704.0000000</td>\n",
       "<td>0.1968803</td>\n",
       "<td>0.0057693</td></tr></table></div>"
      ],
      "text/plain": [
       "variable    relative_importance    scaled_importance    percentage\n",
       "----------  ---------------------  -------------------  ---------------------\n",
       "CHOLSCREEN  2063380119552.0        1.0                  0.02930352385655826\n",
       "C33         1794407137280.0        0.8696444829901728   0.025483647854026802\n",
       "C58         1561402015744.0        0.7567204903006485   0.022174576940271515\n",
       "C62         1462806511616.0        0.7089369999036357   0.02077435228947303\n",
       "PAPTEST     1377554268160.0        0.6676202097261138   0.019563624742829605\n",
       "---         ---                    ---                  ---\n",
       "C53         496028155904.0         0.24039591697321255  0.007044447488043734\n",
       "C67         480312524800.0         0.232779467170734    0.006821258669554525\n",
       "C45         463396831232.0         0.22458141708402835  0.006581026913261486\n",
       "OBESITY     455068942336.0         0.22054537504936528  0.0064627566592126645\n",
       "C49         406238920704.0         0.19688031151148358  0.005769286905263381"
      ]
     },
     "metadata": {},
     "output_type": "display_data"
    },
    {
     "name": "stdout",
     "output_type": "stream",
     "text": [
      "\n",
      "See the whole table with table.as_data_frame()\n",
      "\n"
     ]
    }
   ],
   "source": [
    "from h2o.estimators.random_forest import H2ORandomForestEstimator\n",
    "rf_model1 = H2ORandomForestEstimator(\n",
    "    ntrees=10000,                    \n",
    "    max_depth=10, \n",
    "    col_sample_rate_per_tree=0.1,\n",
    "    sample_rate=0.8,\n",
    "    stopping_rounds=50,\n",
    "    score_each_iteration=True,\n",
    "    nfolds=3,\n",
    "    keep_cross_validation_predictions=True,\n",
    "    seed=12345)           \n",
    "\n",
    "# Train rf model\n",
    "rf_model1.train(\n",
    "    x=X,\n",
    "    y=y,\n",
    "    training_frame=train1,\n",
    "    validation_frame=valid1)\n",
    "\n",
    "# Print model information\n",
    "print(rf_model1)"
   ]
  }
 ],
 "metadata": {
  "kernelspec": {
   "display_name": "Python 3",
   "language": "python",
   "name": "python3"
  },
  "language_info": {
   "codemirror_mode": {
    "name": "ipython",
    "version": 3
   },
   "file_extension": ".py",
   "mimetype": "text/x-python",
   "name": "python",
   "nbconvert_exporter": "python",
   "pygments_lexer": "ipython3",
   "version": "3.6.1"
  }
 },
 "nbformat": 4,
 "nbformat_minor": 2
}
